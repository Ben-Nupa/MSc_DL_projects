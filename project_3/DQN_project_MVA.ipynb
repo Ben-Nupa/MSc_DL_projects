{
 "cells": [
  {
   "cell_type": "markdown",
   "metadata": {},
   "source": [
    "**You may need to install [OpenCV](https://pypi.python.org/pypi/opencv-python) and [scikit-video](http://www.scikit-video.org/stable/).**"
   ]
  },
  {
   "cell_type": "code",
   "execution_count": 1,
   "metadata": {},
   "outputs": [
    {
     "name": "stderr",
     "output_type": "stream",
     "text": [
      "Using TensorFlow backend.\n"
     ]
    }
   ],
   "source": [
    "import os\n",
    "os.environ[\"CUDA_DEVICE_ORDER\"]=\"PCI_BUS_ID\"\n",
    "os.environ[\"CUDA_VISIBLE_DEVICES\"]=\"1\"\n",
    "\n",
    "import keras\n",
    "import numpy as np\n",
    "import io\n",
    "import base64\n",
    "from IPython.display import HTML\n",
    "import skvideo.io\n",
    "import cv2\n",
    "import json\n",
    "\n",
    "from keras.models import Sequential,model_from_json\n",
    "from keras.layers.core import Dense\n",
    "from keras.optimizers import sgd\n",
    "from keras.layers import Conv2D, MaxPooling2D, Activation, AveragePooling2D, Reshape, BatchNormalization, Flatten"
   ]
  },
  {
   "cell_type": "markdown",
   "metadata": {},
   "source": [
    "# MiniProject #3: Deep Reinforcement Learning"
   ]
  },
  {
   "cell_type": "markdown",
   "metadata": {},
   "source": [
    "__Notations__: $E_p$ is the expectation under probability $p$. Please justify each of your answer and widely comment your code."
   ]
  },
  {
   "cell_type": "markdown",
   "metadata": {},
   "source": [
    "# Context"
   ]
  },
  {
   "cell_type": "markdown",
   "metadata": {},
   "source": [
    "In a reinforcement learning algorithm, we modelize each step $t$ as an action $a_t$ obtained from a state $s_t$, i.e. $\\{(a_{t},s_{t})_{t\\leq T}\\}$ having the Markov property. We consider a discount factor $\\gamma \\in [0,1]$ that ensures convergence. The goal is to find among all the policies $\\pi$, one that maximizes the expected reward:\n",
    "\n",
    "\\begin{equation*}\n",
    "R(\\pi)=\\sum_{t\\leq T}E_{p^{\\pi}}[\\gamma^t r(s_{t},a_{t})] \\> ,\n",
    "\\end{equation*}\n",
    "\n",
    "where: \n",
    "\\begin{equation*}p^{\\pi}(a_{0},a_{1},s_{1},...,a_{T},s_{T})=p(a_{0})\\prod_{t=1}^{T}\\pi(a_{t}|s_{t})p(s_{t+1}|s_{t},a_{t}) \\> .\n",
    "\\end{equation*}\n",
    "\n",
    "We note the $Q$-function:\n",
    "\n",
    "\\begin{equation*}Q^\\pi(s,a)=E_{p^{\\pi}}[\\sum_{t\\leq T}\\gamma^{t}r(s_{t},a_{t})|s_{0}=s,a_{0}=a] \\> .\n",
    "\\end{equation*}\n",
    "\n",
    "Thus, the optimal Q function is:\n",
    "\\begin{equation*}\n",
    "Q^*(s,a)=\\max_{\\pi}Q^\\pi(s,a) \\> .\n",
    "\\end{equation*}\n",
    "\n",
    "In this project, we will apply the deep reinforcement learning techniques to a simple game: an agent will have to learn from scratch a policy that will permit it maximizing a reward."
   ]
  },
  {
   "cell_type": "markdown",
   "metadata": {},
   "source": [
    "## The environment, the agent and the game"
   ]
  },
  {
   "cell_type": "markdown",
   "metadata": {},
   "source": [
    "### The environment"
   ]
  },
  {
   "cell_type": "markdown",
   "metadata": {},
   "source": [
    "```Environment``` is an abstract class that represents the states, rewards, and actions to obtain the new state."
   ]
  },
  {
   "cell_type": "code",
   "execution_count": 2,
   "metadata": {},
   "outputs": [],
   "source": [
    "class Environment(object):\n",
    "    def __init__(self):\n",
    "        pass\n",
    "\n",
    "    def act(self, act):\n",
    "        \"\"\"\n",
    "        One can act on the environment and obtain its reaction:\n",
    "        - the new state\n",
    "        - the reward of the new state\n",
    "        - should we continue the game?\n",
    "\n",
    "        :return: state, reward, game_over\n",
    "        \"\"\"\n",
    "        pass\n",
    "\n",
    "\n",
    "    def reset(self):\n",
    "        \"\"\"\n",
    "        Reinitialize the environment to a random state and returns\n",
    "        the original state\n",
    "\n",
    "        :return: state\n",
    "        \"\"\"\n",
    "        pass\n",
    "    \n",
    "    def draw(self):\n",
    "        \"\"\"\n",
    "        Visualize in the console or graphically the current state\n",
    "        \"\"\"\n",
    "        pass"
   ]
  },
  {
   "cell_type": "markdown",
   "metadata": {},
   "source": [
    "The method ```act``` allows to act on the environment at a given state $s_t$ (stored internally), via action $a_t$. The method will return the new state $s_{t+1}$, the reward $r(s_{t},a_{t})$ and determines if $t\\leq T$ (*game_over*).\n",
    "\n",
    "The method ```reset``` simply reinitializes the environment to a random state $s_0$.\n",
    "\n",
    "The method ```draw``` displays the current state $s_t$ (this is useful to check the behavior of the Agent).\n",
    "\n",
    "We modelize $s_t$ as a tensor, while $a_t$ is an integer."
   ]
  },
  {
   "cell_type": "markdown",
   "metadata": {},
   "source": [
    "### The Agent"
   ]
  },
  {
   "cell_type": "markdown",
   "metadata": {},
   "source": [
    "The goal of the ```Agent``` is to interact with the ```Environment``` by proposing actions $a_t$ obtained from a given state $s_t$ to attempt to maximize its __reward__ $r(s_t,a_t)$. We propose the following abstract class:"
   ]
  },
  {
   "cell_type": "code",
   "execution_count": 3,
   "metadata": {},
   "outputs": [],
   "source": [
    "class Agent(object):\n",
    "    def __init__(self, epsilon=0.1, n_action=4):\n",
    "        self.epsilon = epsilon\n",
    "        self.n_action = n_action\n",
    "    \n",
    "    def set_epsilon(self,e):\n",
    "        self.epsilon = e\n",
    "\n",
    "    def act(self,s,train=True):\n",
    "        \"\"\" This function should return the next action to do:\n",
    "        an integer between 0 and 4 (not included) with a random exploration of epsilon\"\"\"\n",
    "        if train:\n",
    "            if np.random.rand() <= self.epsilon:\n",
    "                a = np.random.randint(0, self.n_action, size=1)[0]\n",
    "            else:\n",
    "                a = self.learned_act(s)\n",
    "        else: # in some cases, this can improve the performance.. remove it if poor performances\n",
    "            a = self.learned_act(s)\n",
    "\n",
    "        return a\n",
    "\n",
    "    def learned_act(self,s):\n",
    "        \"\"\" Act via the policy of the agent, from a given state s\n",
    "        it proposes an action a\"\"\"\n",
    "        pass\n",
    "\n",
    "    def reinforce(self, s, n_s, a, r, game_over_):\n",
    "        \"\"\" This function is the core of the learning algorithm. \n",
    "        It takes as an input the current state s_, the next state n_s_\n",
    "        the action a_ used to move from s_ to n_s_ and the reward r_.\n",
    "        \n",
    "        Its goal is to learn a policy.\n",
    "        \"\"\"\n",
    "        pass\n",
    "\n",
    "    def save(self):\n",
    "        \"\"\" This function returns basic stats if applicable: the\n",
    "        loss and/or the model\"\"\"\n",
    "        pass\n",
    "\n",
    "    def load(self):\n",
    "        \"\"\" This function allows to restore a model\"\"\"\n",
    "        pass"
   ]
  },
  {
   "cell_type": "markdown",
   "metadata": {},
   "source": [
    "***\n",
    "__Question 1__:\n",
    "Explain the function act. Why is ```epsilon``` essential?"
   ]
  },
  {
   "cell_type": "markdown",
   "metadata": {},
   "source": [
    "__Answer__:\n",
    "$\\varepsilon$ is a parameter to determine the probability of choosing exploration or exploitation for the current step. The function `act` draws a random float $p \\in [0; 1]$ and:\n",
    "- if $p <= \\varepsilon$: exploration is done.\n",
    "- else ($p > \\varepsilon$): eploitation is done."
   ]
  },
  {
   "cell_type": "markdown",
   "metadata": {},
   "source": [
    "***\n",
    "### The Game"
   ]
  },
  {
   "cell_type": "markdown",
   "metadata": {},
   "source": [
    "The ```Agent``` and the ```Environment``` work in an interlaced way as in the following (take some time to understand this code as it is the core of the project)\n",
    "\n",
    "```python\n",
    "\n",
    "epoch = 300\n",
    "env = Environment()\n",
    "agent = Agent()\n",
    "\n",
    "\n",
    "# Number of won games\n",
    "score = 0\n",
    "loss = 0\n",
    "\n",
    "\n",
    "for e in range(epoch):\n",
    "    # At each epoch, we restart to a fresh game and get the initial state\n",
    "    state = env.reset()\n",
    "    # This assumes that the games will end\n",
    "    game_over = False\n",
    "\n",
    "    win = 0\n",
    "    lose = 0\n",
    "    \n",
    "    while not game_over:\n",
    "        # The agent performs an action\n",
    "        action = agent.act(state)\n",
    "\n",
    "        # Apply an action to the environment, get the next state, the reward\n",
    "        # and if the games end\n",
    "        prev_state = state\n",
    "        state, reward, game_over = env.act(action)\n",
    "\n",
    "        # Update the counters\n",
    "        if reward > 0:\n",
    "            win = win + reward\n",
    "        if reward < 0:\n",
    "            lose = lose -reward\n",
    "\n",
    "        # Apply the reinforcement strategy\n",
    "        loss = agent.reinforce(prev_state, state,  action, reward, game_over)\n",
    "\n",
    "    # Save as a mp4\n",
    "    if e % 10 == 0:\n",
    "        env.draw(e)\n",
    "\n",
    "    # Update stats\n",
    "    score += win-lose\n",
    "\n",
    "    print(\"Epoch {:03d}/{:03d} | Loss {:.4f} | Win/lose count {}/{} ({})\"\n",
    "          .format(e, epoch, loss, win, lose, win-lose))\n",
    "    agent.save()\n",
    "```"
   ]
  },
  {
   "cell_type": "markdown",
   "metadata": {},
   "source": [
    "# The game, *eat cheese*"
   ]
  },
  {
   "cell_type": "markdown",
   "metadata": {},
   "source": [
    "A rat runs on an island and tries to eat as much as possible. The island is subdivided into $N\\times N$ cells, in which there are cheese (+0.5) and poisonous cells (-1). The rat has a visibility of 2 cells (thus it can see $5^2$ cells). The rat is given a time $T$ to accumulate as much food as possible. It can perform 4 actions: going up, down, left, right. \n",
    "\n",
    "The goal is to code an agent to solve this task that will learn by trial and error. We propose the following environment:"
   ]
  },
  {
   "cell_type": "code",
   "execution_count": 4,
   "metadata": {},
   "outputs": [],
   "source": [
    "class Environment(object):\n",
    "    def __init__(self, grid_size=10, max_time=500, temperature=0.1):\n",
    "        grid_size = grid_size+4\n",
    "        self.grid_size = grid_size\n",
    "        self.max_time = max_time\n",
    "        self.temperature = temperature\n",
    "\n",
    "        #board on which one plays\n",
    "        self.board = np.zeros((grid_size,grid_size))\n",
    "        self.position = np.zeros((grid_size,grid_size))\n",
    "\n",
    "        # coordinate of the cat\n",
    "        self.x = 0\n",
    "        self.y = 1\n",
    "\n",
    "        # self time\n",
    "        self.t = 0\n",
    "\n",
    "        self.scale=16\n",
    "\n",
    "        self.to_draw = np.zeros((max_time+2, grid_size*self.scale, grid_size*self.scale, 3))\n",
    "\n",
    "\n",
    "    def draw(self,e):\n",
    "        skvideo.io.vwrite(str(e) + '.mp4', self.to_draw)\n",
    "\n",
    "    def get_frame(self,t):\n",
    "        b = np.zeros((self.grid_size,self.grid_size,3))+128\n",
    "        b[self.board>0,0] = 256\n",
    "        b[self.board < 0, 2] = 256\n",
    "        b[self.x,self.y,:]=256\n",
    "        b[-2:,:,:]=0\n",
    "        b[:,-2:,:]=0\n",
    "        b[:2,:,:]=0\n",
    "        b[:,:2,:]=0\n",
    "        \n",
    "        b =  cv2.resize(b, None, fx=self.scale, fy=self.scale, interpolation=cv2.INTER_NEAREST)\n",
    "\n",
    "        self.to_draw[t,:,:,:]=b\n",
    "\n",
    "\n",
    "    def act(self, action):\n",
    "        \"\"\"This function returns the new state, reward and decides if the\n",
    "        game ends.\"\"\"\n",
    "\n",
    "        self.get_frame(int(self.t))\n",
    "\n",
    "        self.position = np.zeros((self.grid_size, self.grid_size))\n",
    "\n",
    "        self.position[0:2,:]= -1\n",
    "        self.position[:,0:2] = -1\n",
    "        self.position[-2:, :] = -1\n",
    "        self.position[:, -2:] = -1  ########################################################## ISN'T IT [:, -2:] ??????\n",
    "\n",
    "        self.position[self.x, self.y] = 1\n",
    "        if action == 0:\n",
    "            if self.x == self.grid_size-3:\n",
    "                self.x = self.x-1\n",
    "            else:\n",
    "                self.x = self.x + 1\n",
    "        elif action == 1:\n",
    "            if self.x == 2:\n",
    "                self.x = self.x+1\n",
    "            else:\n",
    "                self.x = self.x-1\n",
    "        elif action == 2:\n",
    "            if self.y == self.grid_size - 3:\n",
    "                self.y = self.y - 1\n",
    "            else:\n",
    "                self.y = self.y + 1\n",
    "        elif action == 3:\n",
    "            if self.y == 2:\n",
    "                self.y = self.y + 1\n",
    "            else:\n",
    "                self.y = self.y - 1\n",
    "        else:\n",
    "            raise RuntimeError('Error: action not recognized')\n",
    "\n",
    "        self.t = self.t + 1\n",
    "        reward = self.board[self.x, self.y]\n",
    "        self.board[self.x, self.y] = 0\n",
    "        game_over = self.t > self.max_time\n",
    "        state = np.concatenate((self.board.reshape(self.grid_size, self.grid_size,1),\n",
    "                        self.position.reshape(self.grid_size, self.grid_size,1)),axis=2)\n",
    "        state = state[self.x-2:self.x+3,self.y-2:self.y+3,:]\n",
    "\n",
    "        return state, reward, game_over\n",
    "\n",
    "    def reset(self):\n",
    "        \"\"\"This function resets the game and returns the initial state\"\"\"\n",
    "\n",
    "        self.x = np.random.randint(3, self.grid_size-3, size=1)[0]\n",
    "        self.y = np.random.randint(3, self.grid_size-3, size=1)[0]\n",
    "\n",
    "\n",
    "        bonus = 0.5*np.random.binomial(1,self.temperature,size=self.grid_size**2)\n",
    "        bonus = bonus.reshape(self.grid_size,self.grid_size)\n",
    "\n",
    "        malus = -1.0*np.random.binomial(1,self.temperature,size=self.grid_size**2)\n",
    "        malus = malus.reshape(self.grid_size, self.grid_size)\n",
    "\n",
    "        self.to_draw = np.zeros((self.max_time+2, self.grid_size*self.scale, self.grid_size*self.scale, 3))\n",
    "\n",
    "\n",
    "        malus[bonus>0]=0\n",
    "\n",
    "        self.board = bonus + malus\n",
    "\n",
    "        self.position = np.zeros((self.grid_size, self.grid_size))\n",
    "        self.position[0:2,:]= -1\n",
    "        self.position[:,0:2] = -1\n",
    "        self.position[-2:, :] = -1\n",
    "        self.position[:, -2:] = -1 ########################################################## ISN'T IT [:, -2:] ??????\n",
    "        self.board[self.x,self.y] = 0\n",
    "        self.t = 0\n",
    "\n",
    "        state = np.concatenate((\n",
    "                               self.board.reshape(self.grid_size, self.grid_size,1),\n",
    "                        self.position.reshape(self.grid_size, self.grid_size,1)),axis=2)\n",
    "\n",
    "        state = state[self.x - 2:self.x + 3, self.y - 2:self.y + 3, :]\n",
    "        return state"
   ]
  },
  {
   "cell_type": "markdown",
   "metadata": {},
   "source": [
    "The following elements are important because they correspond to the hyper parameters for this project:"
   ]
  },
  {
   "cell_type": "code",
   "execution_count": 5,
   "metadata": {},
   "outputs": [],
   "source": [
    "# parameters\n",
    "size = 13\n",
    "T=200\n",
    "temperature=0.3\n",
    "epochs_train=20  # set small when debugging\n",
    "epochs_test=10  # set small when debugging\n",
    "\n",
    "# display videos\n",
    "def display_videos(name):\n",
    "    video = io.open(name, 'r+b').read()\n",
    "    encoded = base64.b64encode(video)\n",
    "    return '''<video alt=\"test\" controls>\n",
    "                <source src=\"data:video/mp4;base64,{0}\" type=\"video/mp4\" />\n",
    "             </video>'''.format(encoded.decode('ascii'))"
   ]
  },
  {
   "cell_type": "markdown",
   "metadata": {},
   "source": [
    "__Question 2__ Explain the use of the arrays ```position``` and ```board```."
   ]
  },
  {
   "cell_type": "markdown",
   "metadata": {},
   "source": [
    "__Answer__:\n",
    "- The array `position` stores the current position of the agent.\n",
    "- The array `board` stores the location of cheese (+0.5) and poisonous cells (-1). When the agent moves to a cell, it gets the value of the cell as rewards and the new cell value is set to 0 (empty cell)."
   ]
  },
  {
   "cell_type": "markdown",
   "metadata": {},
   "source": [
    "## Random Agent"
   ]
  },
  {
   "cell_type": "markdown",
   "metadata": {},
   "source": [
    "***\n",
    "__Question 3__ Implement a random Agent (only ```learned_act``` needs to be implemented):"
   ]
  },
  {
   "cell_type": "code",
   "execution_count": 6,
   "metadata": {},
   "outputs": [],
   "source": [
    "class RandomAgent(Agent):\n",
    "    def __init__(self):\n",
    "        super(RandomAgent, self).__init__()\n",
    "        pass\n",
    "\n",
    "    def learned_act(self, s):\n",
    "        \"\"\"A random action (random integer between 0 and 4 (not included)) is returned).\"\"\"\n",
    "        return np.random.randint(0, self.n_action, size=1)[0]"
   ]
  },
  {
   "cell_type": "markdown",
   "metadata": {},
   "source": [
    "***\n",
    "***\n",
    "__Question 4__ Visualize the game moves. You need to fill in the following function for the evaluation:"
   ]
  },
  {
   "cell_type": "code",
   "execution_count": 7,
   "metadata": {},
   "outputs": [],
   "source": [
    "def test(agent,env,epochs,prefix=''):\n",
    "    # Number of won games\n",
    "    score = 0\n",
    "    loss = 0\n",
    "\n",
    "    for e in range(epochs):\n",
    "        \n",
    "        ##### FILL IN HERE\n",
    "        \n",
    "        # At each epoch, we restart to a fresh game and get the initial state\n",
    "        state = env.reset()\n",
    "        # This assumes that the games will end\n",
    "        game_over = False\n",
    "\n",
    "        win = 0\n",
    "        lose = 0\n",
    "\n",
    "        while not game_over:\n",
    "            # The agent performs an action\n",
    "            action = agent.act(state, train=False)\n",
    "\n",
    "            # Apply an action to the environment, get the next state, the reward\n",
    "            # and if the games end\n",
    "            prev_state = state\n",
    "            state, reward, game_over = env.act(action)\n",
    "\n",
    "            # Update the counters\n",
    "            if reward > 0:\n",
    "                win = win + reward\n",
    "            if reward < 0:\n",
    "                lose = lose -reward\n",
    "\n",
    "            # Apply the reinforcement strategy\n",
    "            loss = agent.reinforce(prev_state, state,  action, reward, game_over)\n",
    "\n",
    "        \n",
    "        # Save as a mp4\n",
    "        env.draw(prefix+str(e))\n",
    "\n",
    "        # Update stats\n",
    "        score = score + win-lose\n",
    "\n",
    "        print(\"Win/lose count {}/{}. Average score ({})\"\n",
    "              .format(win, lose, score/(1+e)))\n",
    "    print('Final score: '+str(score/epochs))"
   ]
  },
  {
   "cell_type": "code",
   "execution_count": 8,
   "metadata": {},
   "outputs": [
    {
     "name": "stdout",
     "output_type": "stream",
     "text": [
      "Win/lose count 11.0/15.0. Average score (-4.0)\n",
      "Win/lose count 10.0/17.0. Average score (-5.5)\n",
      "Win/lose count 10.5/16.0. Average score (-5.5)\n",
      "Win/lose count 9.5/21.0. Average score (-7.0)\n",
      "Win/lose count 7.5/7.0. Average score (-5.5)\n",
      "Win/lose count 10.5/12.0. Average score (-4.833333333333333)\n",
      "Win/lose count 8.5/16.0. Average score (-5.214285714285714)\n",
      "Win/lose count 9.5/14.0. Average score (-5.125)\n",
      "Win/lose count 12.5/21.0. Average score (-5.5)\n",
      "Win/lose count 6.5/12.0. Average score (-5.5)\n",
      "Final score: -5.5\n"
     ]
    },
    {
     "data": {
      "text/html": [
       "<video alt=\"test\" controls>\n",
       "                <source src=\"data:video/mp4;base64,AAAAIGZ0eXBpc29tAAACAGlzb21pc28yYXZjMW1wNDEAAAAIZnJlZQAAGIBtZGF0AAACrQYF//+p3EXpvebZSLeWLNgg2SPu73gyNjQgLSBjb3JlIDE1NyByMjkzNSA1NDVkZTJmIC0gSC4yNjQvTVBFRy00IEFWQyBjb2RlYyAtIENvcHlsZWZ0IDIwMDMtMjAxOCAtIGh0dHA6Ly93d3cudmlkZW9sYW4ub3JnL3gyNjQuaHRtbCAtIG9wdGlvbnM6IGNhYmFjPTEgcmVmPTMgZGVibG9jaz0xOjA6MCBhbmFseXNlPTB4MToweDExMSBtZT1oZXggc3VibWU9NyBwc3k9MSBwc3lfcmQ9MS4wMDowLjAwIG1peGVkX3JlZj0xIG1lX3JhbmdlPTE2IGNocm9tYV9tZT0xIHRyZWxsaXM9MSA4eDhkY3Q9MCBjcW09MCBkZWFkem9uZT0yMSwxMSBmYXN0X3Bza2lwPTEgY2hyb21hX3FwX29mZnNldD00IHRocmVhZHM9NiBsb29rYWhlYWRfdGhyZWFkcz0xIHNsaWNlZF90aHJlYWRzPTAgbnI9MCBkZWNpbWF0ZT0xIGludGVybGFjZWQ9MCBibHVyYXlfY29tcGF0PTAgY29uc3RyYWluZWRfaW50cmE9MCBiZnJhbWVzPTMgYl9weXJhbWlkPTIgYl9hZGFwdD0xIGJfYmlhcz0wIGRpcmVjdD0xIHdlaWdodGI9MSBvcGVuX2dvcD0wIHdlaWdodHA9MiBrZXlpbnQ9MjUwIGtleWludF9taW49MjUgc2NlbmVjdXQ9NDAgaW50cmFfcmVmcmVzaD0wIHJjX2xvb2thaGVhZD00MCByYz1jcmYgbWJ0cmVlPTEgY3JmPTIzLjAgcWNvbXA9MC42MCBxcG1pbj0wIHFwbWF4PTY5IHFwc3RlcD00IGlwX3JhdGlvPTEuNDAgYXE9MToxLjAwAIAAAAL+ZYiEADf//vaH+BTZWBP+Wb/9DX/cj9uPrP1xYyEE31qvIejAGS+1H+b/rFFs6Z6UB/fgCJQAc24ZwpJw4v/ApLdW+BTLYTnGrzD8eNPwpbJHJ83jppeSlpmZsLMAP83MQhfdwKXdhLm6jzhEwwhzGAE5konjp+kX09QPpFYslw9prj5+BOadGV0StOPB9rCv2o1Gzx6zgqjWYIy6sGNex9LIXEKhnUidM1uqNPhGXjVgVPr1SuzKTBi3AHurTAs+4CjJP0WsIxYT7x64cXuZh38WB0UevRdNT4ssZYZ6xWc29JSGC+K3vJS+n9cRzBZOSTfOuA4gT3W9697SnrdIEmRFH0sMxhAGAHrsKtt0TGd7/dZh3ki3tVbrk4Xlke+72vVQDWgwA3814AAO7rl9BR8Z3+8/k8t0A/8i08KI7QaAeoG/83s7eNSuJr2619GvAU1qR5Vw961Hk52/FDHpL/l7bfu7IKzQkh7vj9yAQL4zY46uqMEq96kB8gMHKBA2gZRidnZwcT8UyMaBgPgw4UA+MGmRy259krnncb/genuOHIGYzKgWdMEeY/W+klAHjDAPsAGtBWnRuTG2FBM3QMJTIKeS4eHbsnTeapHzI1Rf4sKlmCjjwv9NacETucnAE3YclB7SPwVH84ml5uQiJ0IPfFcVeN2/bljm8qj+4wVZ4og0SAjqxmxXgMfAF2rX5jIkfsQeeN6YEPo9rTo48bf0Q+u9Tb/WDwOp5Sgaufc8JvJtIYns+rSeznL9rF1d7uNuxbiYgMu7JQ+fa6oq8JYsuA/5EyrIpwUfnkTBUyCw/ZDAMPShKDEidpt9HFmaY1e00Z6mHRoFd0c9rTIR8D4RIFq6ZS7jth2yyaIpxh9x2B0CoL3hHJwuESfFf+wSRa0ul19ScNWpvhGt5jsAlZlEQiwpQDZwPGxKs+x/IfvLaCtxU23dooSU4jLQrII+QtchblHGLsHAmHTDanzoQKhKPsngAkP3J6mzRMHT/d8xHEZpG8mLhjy0AACHgQAAABNBmiFsQ3/+p4QAFHMaza//xFYXAAAAF0GaQjwhkymEO//+qZYACk/IMz8IcbyxAAAAHUGaZknhDyZTAhv//qeEAA19I3HIOJ/eL0sJTe+mAAAAEEGehEURPC//AAfv7zurxH8AAAAPAZ6jdEK/AAsVo7zzjCOBAAAAEAGepWpCvwAKy3IYfQEg7bkAAAAqQZqpSahBaJlMCG///qeEAAi3x0+9G+FC5llc90/ApUtH4FM7A1M5uHjBAAAAEkGex0URLCv/AAcUIqmFol/upwAAABABnuhqQr8ABNdiPJcz5XuAAAAAE0Ga60moQWyZTBRMN//+p4QAAScAAAAPAZ8KakK/AATYNYF1/k7AAAAAGkGbD0nhClJlMCG//qeEAAYn4DD5/arRdCeAAAAAFEGfLUU0TC//AAOgm0cK3Onaxj6hAAAAEAGfTHRCvwAE1dqTyvyU7jEAAAAQAZ9OakK/AAT5RomRNK0/wQAAABpBm1BJqEFomUwIb//+p4QACSoAs22z7PntQAAAAB1Bm3RJ4QpSZTAhv/6nhAAJN8dPfDPQu1sxQkACgAAAABBBn5JFNEwv/wAFiY25F1XhAAAAEAGfsXRCvwAHa4YDJLf7LsAAAAAPAZ+zakK/AATV5ompKoSAAAAAGUGbtUmoQWiZTAhv//6nhAAF9dWkEIn+XGMAAAAdQZvZSeEKUmUwIb/+p4QABk/WG5lliZHfdrS4uw4AAAAQQZ/3RTRML/8AA7X/q5AZQQAAAA8BnhZ0Qr8ABR8sGDZjiuEAAAAPAZ4YakK/AAUflA8mCXqAAAAAHkGaHEmoQWiZTAhn//6eEAAYn2PgKZzrdAxd7vDNgQAAABJBnjpFESwr/wAFHbAEApgHcsAAAAAQAZ5bakK/AAT6yITcZ9ewyQAAABxBml1JqEFsmUwIb//+p4QACWoAs220BgE1/exxAAAAGUGafknhClJlMCG//qeEAAmo+Y5J3GzBd9AAAAAaQZqfSeEOiZTAhv/+p4QADtHGf6rgWn/nP4AAAAAWQZqjSeEPJlMCG//+p4QADnnGf6r1cQAAAA5BnsFFETwv/wAIrQBC4AAAABABnuB0Qr8ADB5ycR2XZi6BAAAAEAGe4mpCvwAS21rusoNywYAAAAAaQZrkSahBaJlMCHf//qmWAAu3yDNAH0f7FpEAAAAbQZsHSeEKUmUwId/+qZYAEh+PP5F6R9UE/BOlAAAAEkGfJUU0TCv/AB0H4HQksLXxwQAAAA4Bn0ZqQr8AHQCBZg4IqwAAABpBm0pJqEFomUwIb//+p4QAIqgCzbbPs+bSQAAAABJBn2hFESwr/wAcVnfQtyRV6YAAAAAQAZ+JakK/ABxWYPJgevd2gQAAAB9Bm4xJqEFsmUwUTDv//qmWABtPaXhahZCTcZ83ne9AAAAAEAGfq2pCvwAsSjRMiaVnHcAAAAAbQZuwSeEKUmUwId/+qZYAGq9pfs83f5jsqB/BAAAAEUGfzkU0TC//AB8U1cINd021AAAADwGf7XRCvwArMYQGSXMHgQAAABABn+9qQr8AKy3IYfQEg5O4AAAAGkGb80moQWiZTAh3//6plgARn486WdHU8mfAAAAAEkGeEUURLCv/ABxQYBAKYByzoQAAAA4BnjJqQr8AHFr9I9z9PgAAABNBmjdJqEFsmUwId//+qZYAAJWAAAAADEGeVUUVLC//AACygQAAABABnnR0Qr8AG1zk78AH2+jAAAAADwGedmpCvwAcTnDRK55eZQAAABxBmntJqEFsmUwIb//+p4QAM26tmJ/q7e6n7WIZAAAAEEGemUUVLC//AB5f4q8ipaAAAAAQAZ64dEK/ACs9AOdscaagIQAAAA8BnrpqQr8AKyo0TUlOQIAAAAAdQZq9SahBbJlMFEw3//6nhABRsVqmP9W7fYP1xDkAAAAPAZ7cakK/AEF2I8mB69w3AAAAG0GawUnhClJlMCGf/p4QAe/1yN2OGlvr77bh4AAAABBBnv9FNEwv/wBNc/ZuCBfwAAAADgGfHnRCvwBDdx3nnFsnAAAAEAGfAGpCvwBpnaluGzamvIAAAAAaQZsCSahBaJlMCG///qeEAMfSJ/qt8x+IQcEAAAAZQZsjSeEKUmUwIb/+p4QBNEAWbbZ9nzRJwAAAABtBm0VJ4Q6JlMFNEw7//qmWAJwqcP63yCk3xcEAAAAQAZ9kakK/APgC851oYXiFwQAAABpBm2lJ4Q8mUwIb//6nhADD+wf55U5LdFrVUQAAABBBn4dFETwv/wB0E6jewRf5AAAADwGfpnRCvwCfRjFwH5acIAAAABABn6hqQr8Ao9KN5piraQTAAAAAHEGbrUmoQWiZTAhv//6nhAB/fYP85Trwo1uY7x0AAAAQQZ/LRREsL/8ATXP2bggX8AAAAA8Bn+p0Qr8Ao/QDoTkvAsAAAAAPAZ/sakK/AGmJaVIoEqnzAAAAGUGb7kmoQWyZTAhv//6nhABT8VpBCJ/ltysAAAAaQZoSSeEKUmUwIb/+p4QAgqzR/QzN7qfFu9EAAAAQQZ4wRTRML/8AT5lgnxuswAAAAA8Bnk90Qr8AbCSzcGyXjXEAAAAPAZ5RakK/AGwsQPJgi5eBAAAAGUGaVEmoQWiZTBTwz/6eEAH99ff02XNLDgQAAAAQAZ5zakK/AGwI7c60MLxyQAAAABhBmnVJ4QpSZTAhv/6nhABUfdTj/D6ttysAAAAYQZqWSeEOiZTAhv/+p4QAUj3U4/w+rbczAAAAHEGauEnhDyZTBRE8N//+p4QAT/3U/dcEC3Ra9CEAAAAQAZ7XakK/AD+BEzTfSQcfSQAAABlBmttJ4Q8mUwIb//6nhAA0/sH+E4LdCWzAAAAAEUGe+UURPCv/ACxUo3mm96lFAAAADgGfGmpCvwAsTYx6IrmmAAAAGkGbHEmoQWiZTAh3//6plgARH48/fsg3FRvhAAAAG0GbP0nhClJlMCHf/qmWAAtullcZpfuhnr8DdQAAABFBn11FNEwr/wASXYrBISt/bQAAAA4Bn35qQr8AEl2TFcCZtAAAABtBm2NJqEFomUwIb//+p4QAIauxWbc146fazhEAAAAQQZ+BRREsL/8AFHoEVpRXeAAAAA4Bn6B0Qr8AEt3HeecXhwAAABABn6JqQr8AHE5w17zSs6fAAAAAHkGbpUmoQWyZTBRMN//+p4QAId8dPd5uvvrZihH7cwAAABABn8RqQr8AG6I7c60ML1hBAAAAGEGbyEnhClJlMCG//qeEABWvdTj/D6tuowAAAA9Bn+ZFNEwr/wARWTcN1MEAAAAQAZ4HakK/ABCli3YrR9wVwAAAABlBmglJqEFomUwIb//+p4QAFR+NOgrWZTZ/AAAAG0GaLEnhClJlMCG//qeEABSPjT8dt4mgt0hzcQAAABJBnkpFNEwr/wAQWT5zrJ8ntIAAAAAOAZ5rakK/ABBg0Lvepv4AAAAaQZptSahBaJlMCG///qeEAA0/sH+E4LdCrEEAAAAYQZqQSeEKUmUwIb/+p4QACKj5jyMT/LgnAAAAEkGerkU0TCv/AAcVmL2Fgv0rQQAAAA4Bns9qQr8ABxWax5wT2gAAABpBmtFJqEFomUwId//+qZYABGfjz9+yDcVg4AAAABxBmvVJ4QpSZTAh3/6plgAEgUE/K3++0vuW0tzdAAAAEUGfE0U0TC//AAVmgQUoUQ/YAAAADwGfMnRCvwAEltGLgPzzwAAAABABnzRqQr8AB0GeEPGhrQqBAAAAHUGbOUmoQWiZTAhv//6nhAAN37B69mqazbePN4fuAAAAFEGfV0URLC//AAhuPHTOKHmQbBeLAAAAEAGfdnRCvwALplqgdO1ECIEAAAAPAZ94akK/AAujWUzbMjddAAAAGUGbfUmoQWyZTAhn//6eEAA0/r7+ocfvaikAAAAQQZ+bRRUsL/8AB+/4q8jJYAAAABABn7p0Qr8AC12jvK2UPZLBAAAADwGfvGpCvwALXG13fd8oIQAAABlBm75JqEFsmUwIb//+p4QACSj5jyMT/LgVAAAAGEGb30nhClJlMCG//qeEAAlo+Y8jE/y4DQAAABFBm+NJ4Q6JlMCG//6nhAABJwAAABNBngFFETwv/wAFryW5TMfMRFeuAAAAEAGeIHRCvwAHxbA1tMoe5cEAAAAQAZ4iakK/AAeZnzG6HJB4+AAAABpBmiRJqEFomUwIb//+p4QADnnGf6rfMfi44QAAABlBmkVJ4QpSZTAh3/6plgALb8gzQB6S+xcxAAAAG0GaaUnhDomUwIb//qeEACOj5mps24ze6nxgfQAAABBBnodFETwv/wAVllgnxx7BAAAAEAGepnRCvwAdCKtV4EV3coAAAAAPAZ6oakK/AB0LAlyv8D9AAAAAHkGaq0moQWiZTBTw7/6plgAbKCzlBmgU+lUDh/sUZwAAABABnspqQr8ALWo0TImlZxtAAAAAG0Gaz0nhClJlMCG//qeEAFYxWqY/1bt9g/XDzAAAABBBnu1FNEwv/wAzgjd7gILBAAAAEAGfDHRCvwBFfNUDp2obOYEAAAAPAZ8OakK/AEWDWBdf3/3BAAAAHEGbE0moQWiZTAhv//6nhAB+weJrjVEv0T/Ie0gAAAAQQZ8xRREsL/8ATXP3OFlE+AAAAA8Bn1B0Qr8ARW0IDJLlqYEAAAAQAZ9SakK/AGwBY17zSs3LwAAAABpBm1RJqEFsmUwIb//+p4QAf32D/CcFuhJZQAAAABlBm3VJ4QpSZTAh3/6plgAqnvq+uxBuKg0xAAAAG0GbmUnhDomUwIb//qeEADY+wf55BWqZCRb5mAAAABVBn7dFETwv/wAfv+K4aMBz6LK7TCkAAAAPAZ/WdEK/ACxJyhSbZKsvAAAAEAGf2GpCvwAdBmDyXM+S3YAAAAAcQZvbSahBaJlMFPDf/qeEACPfHT7mRhbMUI5jpQAAABABn/pqQr8AHQBec60ML1PAAAAAGUGb/knhClJlMCG//qeEACKoAs22z7Pm0kEAAAASQZ4cRTRMK/8AHFZ30LckVemBAAAADgGePWpCvwAcVni1r1emAAAAGUGaIUmoQWiZTAhv//6nhAAi3x0x/h9W3GcAAAASQZ5fRREsK/8ALFg67u/pFe/BAAAADgGeYGpCvwAsTbruPA9+AAAAGUGaYkmoQWyZTAhv//6nhAAh3x0x/h9W3HEAAAAdQZqGSeEKUmUwIb/+p4QAMi6tmJ/q7e6n4QznD0wAAAAQQZ6kRTRML/8AHa/irsySiwAAABABnsN0Qr8AKPmiRPizFHwRAAAADwGexWpCvwAo/KwLr/AgQQAAABxBmshJqEFomUwU8N/+p4QAT3Fapj/Vu32D9cR5AAAAEAGe52pCvwA/jMHkwPXuIIAAAAAZQZrpSeEKUmUwIb/+p4QAeU4z/Vb5j8Q2YAAAABlBmwpJ4Q6JlMCHf/6plgBgKkGaAPSX1/nxAAAAHEGbLknhDyZTAhv//qeEASX46Y/xNcaog+bws6YAAAAQQZ9MRRE8L/8AsTHkFXg78gAAAA8Bn2t0Qr8A7VisYQq1EMEAAAAQAZ9takK/AOzzhr3mlZtDwQAAABJBm3JJqEFomUwIb//+p4QAAScAAAAQQZ+QRREsL/8ArOS3P1xFZQAAABABn690Qr8A53FmeV+Smy3oAAAAEAGfsWpCvwDs84a95pWbQ8EAAAAaQZuzSahBbJlMCG///qeEAgUAWbZUNP1Ej4AAAAARQZvXSeEKUmUwIb/+p4QAAScAAAAMQZ/1RTRML/8AALKBAAAAEAGeFHRCvwF1tHdHbfCo+YAAAAAPAZ4WakK/AWiyjdZ6s9G9AAAAGkGaGEmoQWiZTAhv//6nhAIL46fR0KEhSO6BAAAAGUGaO0nhClJlMCG//qeEAR346fUcaEhwXcAAAAAPQZ5ZRTRMK/8A54P+aXehAAAADQGeempCvwDn2BQNKJoAAAAbQZp/SahBaJlMCG///qeEARRZpC27Xjp9qzqhAAAAEEGenUURLC//AKgyxUIKAOEAAAAQAZ68dEK/AOJGZEdizFGuOAAAAA8Bnr5qQr8A4lgS5X9+8cAAAAAZQZqgSahBbJlMCG///qeEARX46Y/w+rbZZwAAABtBmsRJ4QpSZTAhv/6nhAHslFP9HE/xGXmzI6oAAAAQQZ7iRTRML/8A/p61xcxyoQAAABABnwF0Qr8BY8tUDp2oacqAAAAADwGfA2pCvwIylbGDt7ZQwQAAABtBmwhJqEFomUwIX//+jLAb446XGvEe9XfP2k8AAAAQQZ8mRREsL/8BshrNeN9gQQAAAA8Bn0V0Qr8CSRVqvAPnxycAAAAPAZ9HakK/AklgOMD8sHNAAAAAGkGbSUuoQhBbJEYIKAfyAf2HgCFf/jhAABFwAAAL0G1vb3YAAABsbXZoZAAAAAAAAAAAAAAAAAAAA+gAAB+QAAEAAAEAAAAAAAAAAAAAAAABAAAAAAAAAAAAAAAAAAAAAQAAAAAAAAAAAAAAAAAAQAAAAAAAAAAAAAAAAAAAAAAAAAAAAAAAAAAAAAAAAAIAAAr6dHJhawAAAFx0a2hkAAAAAwAAAAAAAAAAAAAAAQAAAAAAAB+QAAAAAAAAAAAAAAAAAAAAAAABAAAAAAAAAAAAAAAAAAAAAQAAAAAAAAAAAAAAAAAAQAAAAAEQAAABEAAAAAAAJGVkdHMAAAAcZWxzdAAAAAAAAAABAAAfkAAABAAAAQAAAAAKcm1kaWEAAAAgbWRoZAAAAAAAAAAAAAAAAAAAMgAAAZQAVcQAAAAAAC1oZGxyAAAAAAAAAAB2aWRlAAAAAAAAAAAAAAAAVmlkZW9IYW5kbGVyAAAACh1taW5mAAAAFHZtaGQAAAABAAAAAAAAAAAAAAAkZGluZgAAABxkcmVmAAAAAAAAAAEAAAAMdXJsIAAAAAEAAAndc3RibAAAAJVzdHNkAAAAAAAAAAEAAACFYXZjMQAAAAAAAAABAAAAAAAAAAAAAAAAAAAAAAEQARAASAAAAEgAAAAAAAAAAQAAAAAAAAAAAAAAAAAAAAAAAAAAAAAAAAAAAAAAAAAAABj//wAAAC9hdmNDAfQADf/hABdn9AANkZsoIhHQgAAAAwCAAAAZB4oUywEABWjr48RIAAAAGHN0dHMAAAAAAAAAAQAAAMoAAAIAAAAAFHN0c3MAAAAAAAAAAQAAAAEAAAWoY3R0cwAAAAAAAACzAAAAAwAABAAAAAABAAAKAAAAAAEAAAQAAAAAAQAAAAAAAAABAAACAAAAAAEAAAgAAAAAAgAAAgAAAAABAAAGAAAAAAEAAAIAAAAAAQAACgAAAAABAAAEAAAAAAEAAAAAAAAAAQAAAgAAAAABAAAEAAAAAAEAAAoAAAAAAQAABAAAAAABAAAAAAAAAAEAAAIAAAAAAQAABAAAAAABAAAKAAAAAAEAAAQAAAAAAQAAAAAAAAABAAACAAAAAAEAAAgAAAAAAgAAAgAAAAADAAAEAAAAAAEAAAoAAAAAAQAABAAAAAABAAAAAAAAAAEAAAIAAAAAAQAABAAAAAABAAAIAAAAAAIAAAIAAAAAAQAACAAAAAACAAACAAAAAAEAAAYAAAAAAQAAAgAAAAABAAAKAAAAAAEAAAQAAAAAAQAAAAAAAAABAAACAAAAAAEAAAgAAAAAAgAAAgAAAAABAAAKAAAAAAEAAAQAAAAAAQAAAAAAAAABAAACAAAAAAEAAAoAAAAAAQAABAAAAAABAAAAAAAAAAEAAAIAAAAAAQAABgAAAAABAAACAAAAAAEAAAoAAAAAAQAABAAAAAABAAAAAAAAAAEAAAIAAAAAAgAABAAAAAABAAAGAAAAAAEAAAIAAAAAAQAACgAAAAABAAAEAAAAAAEAAAAAAAAAAQAAAgAAAAABAAAKAAAAAAEAAAQAAAAAAQAAAAAAAAABAAACAAAAAAEAAAQAAAAAAQAACgAAAAABAAAEAAAAAAEAAAAAAAAAAQAAAgAAAAABAAAGAAAAAAEAAAIAAAAAAgAABAAAAAABAAAGAAAAAAEAAAIAAAAAAQAACAAAAAACAAACAAAAAAEAAAQAAAAAAQAACAAAAAACAAACAAAAAAEAAAoAAAAAAQAABAAAAAABAAAAAAAAAAEAAAIAAAAAAQAABgAAAAABAAACAAAAAAEAAAgAAAAAAgAAAgAAAAABAAAEAAAAAAEAAAgAAAAAAgAAAgAAAAABAAAEAAAAAAEAAAgAAAAAAgAAAgAAAAABAAAEAAAAAAEAAAoAAAAAAQAABAAAAAABAAAAAAAAAAEAAAIAAAAAAQAACgAAAAABAAAEAAAAAAEAAAAAAAAAAQAAAgAAAAABAAAKAAAAAAEAAAQAAAAAAQAAAAAAAAABAAACAAAAAAIAAAQAAAAAAQAACgAAAAABAAAEAAAAAAEAAAAAAAAAAQAAAgAAAAACAAAEAAAAAAEAAAoAAAAAAQAABAAAAAABAAAAAAAAAAEAAAIAAAAAAQAABgAAAAABAAACAAAAAAEAAAoAAAAAAQAABAAAAAABAAAAAAAAAAEAAAIAAAAAAQAACgAAAAABAAAEAAAAAAEAAAAAAAAAAQAAAgAAAAACAAAEAAAAAAEAAAoAAAAAAQAABAAAAAABAAAAAAAAAAEAAAIAAAAAAQAABgAAAAABAAACAAAAAAEAAAgAAAAAAgAAAgAAAAABAAAIAAAAAAIAAAIAAAAAAQAABAAAAAABAAAKAAAAAAEAAAQAAAAAAQAAAAAAAAABAAACAAAAAAEAAAYAAAAAAQAAAgAAAAACAAAEAAAAAAEAAAoAAAAAAQAABAAAAAABAAAAAAAAAAEAAAIAAAAAAQAACgAAAAABAAAEAAAAAAEAAAAAAAAAAQAAAgAAAAABAAAEAAAAAAEAAAoAAAAAAQAABAAAAAABAAAAAAAAAAEAAAIAAAAAAQAABAAAAAABAAAIAAAAAAIAAAIAAAAAAQAACgAAAAABAAAEAAAAAAEAAAAAAAAAAQAAAgAAAAABAAAEAAAAAAEAAAoAAAAAAQAABAAAAAABAAAAAAAAAAEAAAIAAAAAAQAACgAAAAABAAAEAAAAAAEAAAAAAAAAAQAAAgAAAAABAAAEAAAAABxzdHNjAAAAAAAAAAEAAAABAAAAygAAAAEAAAM8c3RzegAAAAAAAAAAAAAAygAABbMAAAAXAAAAGwAAACEAAAAUAAAAEwAAABQAAAAuAAAAFgAAABQAAAAXAAAAEwAAAB4AAAAYAAAAFAAAABQAAAAeAAAAIQAAABQAAAAUAAAAEwAAAB0AAAAhAAAAFAAAABMAAAATAAAAIgAAABYAAAAUAAAAIAAAAB0AAAAeAAAAGgAAABIAAAAUAAAAFAAAAB4AAAAfAAAAFgAAABIAAAAeAAAAFgAAABQAAAAjAAAAFAAAAB8AAAAVAAAAEwAAABQAAAAeAAAAFgAAABIAAAAXAAAAEAAAABQAAAATAAAAIAAAABQAAAAUAAAAEwAAACEAAAATAAAAHwAAABQAAAASAAAAFAAAAB4AAAAdAAAAHwAAABQAAAAeAAAAFAAAABMAAAAUAAAAIAAAABQAAAATAAAAEwAAAB0AAAAeAAAAFAAAABMAAAATAAAAHQAAABQAAAAcAAAAHAAAACAAAAAUAAAAHQAAABUAAAASAAAAHgAAAB8AAAAVAAAAEgAAAB8AAAAUAAAAEgAAABQAAAAiAAAAFAAAABwAAAATAAAAFAAAAB0AAAAfAAAAFgAAABIAAAAeAAAAHAAAABYAAAASAAAAHgAAACAAAAAVAAAAEwAAABQAAAAhAAAAGAAAABQAAAATAAAAHQAAABQAAAAUAAAAEwAAAB0AAAAcAAAAFQAAABcAAAAUAAAAFAAAAB4AAAAdAAAAHwAAABQAAAAUAAAAEwAAACIAAAAUAAAAHwAAABQAAAAUAAAAEwAAACAAAAAUAAAAEwAAABQAAAAeAAAAHQAAAB8AAAAZAAAAEwAAABQAAAAgAAAAFAAAAB0AAAAWAAAAEgAAAB0AAAAWAAAAEgAAAB0AAAAhAAAAFAAAABQAAAATAAAAIAAAABQAAAAdAAAAHQAAACAAAAAUAAAAEwAAABQAAAAWAAAAFAAAABQAAAAUAAAAHgAAABUAAAAQAAAAFAAAABMAAAAeAAAAHQAAABMAAAARAAAAHwAAABQAAAAUAAAAEwAAAB0AAAAfAAAAFAAAABQAAAATAAAAHwAAABQAAAATAAAAEwAAAB4AAAAUc3RjbwAAAAAAAAABAAAAMAAAAGJ1ZHRhAAAAWm1ldGEAAAAAAAAAIWhkbHIAAAAAAAAAAG1kaXJhcHBsAAAAAAAAAAAAAAAALWlsc3QAAAAlqXRvbwAAAB1kYXRhAAAAAQAAAABMYXZmNTguMjYuMTAw\" type=\"video/mp4\" />\n",
       "             </video>"
      ],
      "text/plain": [
       "<IPython.core.display.HTML object>"
      ]
     },
     "execution_count": 8,
     "metadata": {},
     "output_type": "execute_result"
    }
   ],
   "source": [
    "# Initialize the game\n",
    "env = Environment(grid_size=size, max_time=T,temperature=temperature)\n",
    "\n",
    "# Initialize the agent!\n",
    "agent = RandomAgent()\n",
    "\n",
    "test(agent,env,epochs_test,prefix='random')\n",
    "HTML(display_videos('random' + str(epochs_test-1) + '.mp4'))"
   ]
  },
  {
   "cell_type": "markdown",
   "metadata": {},
   "source": [
    "***\n",
    "## DQN"
   ]
  },
  {
   "cell_type": "markdown",
   "metadata": {},
   "source": [
    "Let us assume here that $T=\\infty$.\n",
    "\n",
    "***\n",
    "__Question 5__ Let $\\pi$ be a policy, show that:\n",
    "\n",
    "\\begin{equation*}\n",
    "Q^{\\pi}(s,a)=E_{(s',a')\\sim p(.|s,a)}[r(s,a)+\\gamma Q^{\\pi}(s',a')]\n",
    "\\end{equation*}\n",
    "\n",
    "Then, show that for the optimal policy $\\pi^*$ (we assume its existence), the following holds: \n",
    "\n",
    "\\begin{equation*}\n",
    "Q^{*}(s,a)=E_{s'\\sim \\pi^*(.|s,a)}[r(s,a)+\\gamma\\max_{a'}Q^{*}(s',a')].\n",
    "\\end{equation*}\n",
    "Finally, deduce that a plausible objective is:\n",
    "\n",
    "\\begin{equation*}\n",
    "\\mathcal{L}(\\theta)=E_{s' \\sim \\pi^*(.|s,a)}\\Vert r+\\gamma\\max\\max_{a'}Q(s',a',\\theta)-Q(s,a,\\theta)\\Vert^{2}.\n",
    "\\end{equation*}\n",
    "\n",
    "\n"
   ]
  },
  {
   "cell_type": "markdown",
   "metadata": {},
   "source": [
    "__Answer__:\n",
    "1 - The action-value function was previously defined as:\n",
    "\\begin{equation*}\n",
    "Q^\\pi(s,a)=E_{p^{\\pi}}[\\sum_{t\\leq T}\\gamma^{t}r(s_{t},a_{t})|s_{0}=s,a_{0}=a]\n",
    "\\end{equation*}\n",
    "\n",
    "Which can be rewritten as:\n",
    "\\begin{split}\n",
    "Q^\\pi(s,a) & = E_{p^{\\pi}}[r(s, a) + \\sum_{t=1}^{T}\\gamma^{t}r(s_{t},a_{t})|s_{0}=s,a_{0}=a] \\\\\n",
    "& = E_{p^{\\pi}}[r(s, a) + \\gamma\\sum_{t=1}^{T}\\gamma^{t-1}r(s_{t},a_{t})|s_{0}=s,a_{0}=a] \\\\\n",
    "& = E_{p^{\\pi}}[r(s, a) + \\gamma E_{p^{\\pi}}[\\sum_{t=1}^{T}\\gamma^{t-1}r(s_{t},a_{t})|s_{1}=s',a_{1}=a']|s_{0}=s,a_{0}=a] \\\\\n",
    "& = E_{p^{\\pi}}[r(s, a) + Q^\\pi(s',a')]|s_{0}=s,a_{0}=a] \\\\\n",
    "& = E_{(s',a')\\sim p(.|s,a)}[r(s,a)+\\gamma Q^{\\pi}(s',a')]\n",
    "\\end{split}\n",
    "\n",
    "<br>\n",
    "\n",
    "2 - In its explicit form, the action-value function is:\n",
    "\\begin{equation*}\n",
    "Q^\\pi(s,a)=\\sum_{s'}P(s'|s,a)[r(s,a,s') + \\gamma\\sum_{a'}\\pi(s',a')Q^\\pi(s',a')]\n",
    "\\end{equation*}\n",
    "\n",
    "An optimal policy can be found by by maximising over $Q^*(s,a)$:\n",
    "\\begin{equation*}\n",
    "\\pi^*(a|s)=\\left\\{\\begin{split}\n",
    "1 & \\; if \\; a=\\underset{a}{argmax} \\; Q^{*}(s, a) \\\\\n",
    "0 & \\; otherwise\n",
    "\\end{split}\\right.\n",
    "\\end{equation*}\n",
    "\n",
    "Thus for the optimal action-value function, the previous equation becomes:\n",
    "\\begin{equation*}\n",
    "Q^\\pi(s,a)=\\sum_{s'}P(s'|s,a)[r(s,a,s') + \\gamma \\; \\underset{a'}{max} \\; Q^{*}(s', a')]\n",
    "\\end{equation*}\n",
    "\\begin{split}\n",
    "Q^\\pi(s,a) & = \\sum_{s'}P(s'|s,a)[r(s,a,s') + \\gamma \\; \\underset{a'}{max} \\; Q^{*}(s', a')] \\\\\n",
    "& = E_{s'\\sim \\pi^*(.|s,a)}[r(s,a)+\\gamma\\max_{a'}Q^{*}(s',a')]\n",
    "\\end{split}\n",
    "\n",
    "<br>\n",
    "\n",
    "3 - The Bellman optimality equation from the previous question can be rewritten in a recursive way, at each time step $t$ and for a policy $\\pi$:\n",
    "\\begin{equation*}\n",
    "Q^\\pi_{t+1}(s,a) = E_{s'\\sim \\pi(.|s,a)}[r(s,a)+\\gamma\\max_{a'}Q^{\\pi}_{t}(s',a')]\n",
    "\\end{equation*}\n",
    "At each step $t$, let:  \n",
    "- $s_{t}$ the state\n",
    "- $r_{t}$ the reward obtained after performing the action $a_{t}$ ($s_{t+1}$ is then observed)\n",
    "- $y_{t}$ the target\n",
    "- $Q(s_{t+1},a;\\theta)$ the action-value function, depending on parameters $\\theta$ to be optimized.\n",
    "\n",
    "Then the desired target is composed of the reward obtained after performing an action as well as the maximal expected cumulative reward with the current policy, i.e: $y_{t} = r_{t} + \\gamma \\; \\underset{a}{max} \\: Q(s_{t+1},a;\\theta)$.\n",
    "\n",
    "Similar to neural network, a gradient descent step is performed between the target and the current action-value function using Mean Squared Error as the loss function, i.e: $(y_{t} - Q(s_{t},a_{t};\\theta))^2$.\n",
    "\n",
    "Finally, instead of sampling the examples from some known data in the case of neural network, they are sampled from the optimal policy, i.e: \n",
    "\\begin{equation*}\n",
    "\\mathcal{L}(\\theta)=E_{s' \\sim \\pi^*(.|s,a)}\\Vert r+\\gamma\\max_{a'}Q(s',a',\\theta)-Q(s,a,\\theta)\\Vert^{2}.\n",
    "\\end{equation*}"
   ]
  },
  {
   "cell_type": "markdown",
   "metadata": {},
   "source": [
    "***\n",
    "The DQN-learning algorithm relies on these derivations to train the parameters $\\theta$ of a Deep Neural Network:\n",
    "\n",
    "1. At the state $s_t$, select the action $a_t$ with best reward using $Q_t$ and store the results;\n",
    "\n",
    "2. Obtain the new state $s_{t+1}$ from the environment $p$;\n",
    "\n",
    "3. Store $(s_t,a_t,s_{t+1})$;\n",
    "\n",
    "4. Obtain $Q_{t+1}$ by minimizing  $\\mathcal{L}$ from a recovered batch from the previously stored results.\n",
    "\n",
    "***\n",
    "__Question 6__ Implement the class ```Memory``` that stores moves (in a replay buffer) via ```remember``` and provides a ```random_access``` to these. Specify a maximum memory size to avoid side effects. You can for example use a ```list()``` and set by default ```max_memory=100```."
   ]
  },
  {
   "cell_type": "code",
   "execution_count": 9,
   "metadata": {},
   "outputs": [],
   "source": [
    "class Memory(object):\n",
    "    def __init__(self, max_memory=100):\n",
    "        self.max_memory = max_memory\n",
    "        self.memory = list()\n",
    "\n",
    "    def remember(self, m):\n",
    "        \"\"\"\n",
    "        Stores the given moves in the memory list. Only keep the newest 'max_memory' elements.\n",
    "        \n",
    "        Parameters\n",
    "        ----------\n",
    "        m : list\n",
    "            Whole description of the move, expected: [state, new_state, action, reward, is_game_over]\n",
    "        \"\"\"\n",
    "        if len(self.memory) == self.max_memory:\n",
    "            del self.memory[0]\n",
    "        self.memory.append(m)\n",
    "\n",
    "    def random_access(self):\n",
    "        \"\"\"\n",
    "        Sample a random move from the memory.\n",
    "        \n",
    "        Returns\n",
    "        ----------\n",
    "        move : list\n",
    "            Whole description of the move, expected: [state, new_state, action, reward, is_game_over]\n",
    "        \"\"\"\n",
    "        return self.memory[np.random.randint(len(self.memory))]"
   ]
  },
  {
   "cell_type": "markdown",
   "metadata": {},
   "source": [
    "***\n",
    "The pipeline we will use for training is given below:"
   ]
  },
  {
   "cell_type": "code",
   "execution_count": 10,
   "metadata": {},
   "outputs": [],
   "source": [
    "def train(agent,env,epoch,prefix=''):\n",
    "    # Number of won games\n",
    "    score = 0\n",
    "    loss = 0\n",
    "\n",
    "    for e in range(epoch):\n",
    "        # At each epoch, we restart to a fresh game and get the initial state\n",
    "        state = env.reset()\n",
    "        # This assumes that the games will terminate\n",
    "        game_over = False\n",
    "\n",
    "        win = 0\n",
    "        lose = 0\n",
    "\n",
    "        while not game_over:\n",
    "            # The agent performs an action\n",
    "            action = agent.act(state)\n",
    "\n",
    "            # Apply an action to the environment, get the next state, the reward\n",
    "            # and if the games end\n",
    "            prev_state = state\n",
    "            state, reward, game_over = env.act(action)\n",
    "\n",
    "            # Update the counters\n",
    "            if reward > 0:\n",
    "                win = win + reward\n",
    "            if reward < 0:\n",
    "                lose = lose -reward\n",
    "\n",
    "            # Apply the reinforcement strategy\n",
    "            loss = agent.reinforce(prev_state, state,  action, reward, game_over)\n",
    "\n",
    "        # Save as a mp4\n",
    "        if e % (epoch-1) == 0:\n",
    "            env.draw(prefix+str(e))\n",
    "\n",
    "        # Update stats\n",
    "        score += win-lose\n",
    "\n",
    "        print(\"Epoch {:03d}/{:03d} | Loss {:.4f} | Win/lose count {}/{} ({})\"\n",
    "              .format(e, epoch, loss, win, lose, win-lose))\n",
    "        agent.save(name_weights=prefix+'model.h5',name_model=prefix+'model.json')"
   ]
  },
  {
   "cell_type": "markdown",
   "metadata": {},
   "source": [
    "***\n",
    "__Question 7__ Implement the DQN training algorithm using a cascade of fully connected layers. You can use different learning rate, batch size or memory size parameters. In particular, the loss might oscillate while the player will start to win the games. You have to find a good criterium."
   ]
  },
  {
   "cell_type": "code",
   "execution_count": 11,
   "metadata": {},
   "outputs": [],
   "source": [
    "class DQN(Agent):\n",
    "    def __init__(self, grid_size,  epsilon = 0.1, memory_size=100, batch_size = 16,n_state=2):\n",
    "        super(DQN, self).__init__(epsilon = epsilon)\n",
    "\n",
    "        # Discount for Q learning\n",
    "        self.discount = 0.99\n",
    "        \n",
    "        self.grid_size = grid_size\n",
    "        \n",
    "        # number of state\n",
    "        self.n_state = n_state\n",
    "\n",
    "        # Memory\n",
    "        self.memory = Memory(memory_size)\n",
    "        \n",
    "        # Batch size when learning\n",
    "        self.batch_size = batch_size\n",
    "\n",
    "    def learned_act(self, s):\n",
    "        \"\"\"\n",
    "        Exploitation strategy: selects the best possible action state which maximises the action value\n",
    "        function computed from the current state.\n",
    "        \n",
    "        Returns\n",
    "        ----------\n",
    "        action : int\n",
    "            Best action for the given state.\n",
    "        \"\"\"\n",
    "        current_state_q = self.model.predict(s.reshape(1, 5, 5, self.n_state))\n",
    "        return np.argmax(current_state_q)\n",
    "\n",
    "    def reinforce(self, s_, n_s_, a_, r_, game_over_):\n",
    "        # Two steps: first memorize the states, second learn from the pool\n",
    "        self.memory.remember([s_, n_s_, a_, r_, game_over_])\n",
    "        \n",
    "        input_states = np.zeros((self.batch_size, 5,5,self.n_state))\n",
    "        target_q = np.zeros((self.batch_size, 4))\n",
    "        \n",
    "        for i in range(self.batch_size):\n",
    "            ######## FILL IN\n",
    "            move = self.memory.random_access()  # Sample a random move stored in the memory\n",
    "            s, ns, a, r, game_over = move\n",
    "            input_states[i] = s\n",
    "            \n",
    "            # Set Q(s, a) = r if the episode ends at ns, if not set Q(s, a) = r + gamma*maxQ(s', a')\n",
    "            if game_over:\n",
    "                ######## FILL IN\n",
    "                target_q[i, a] = r\n",
    "            else:\n",
    "                ######## FILL IN\n",
    "                next_state_q = self.model.predict(s.reshape(1, 5, 5, self.n_state))\n",
    "                target_q[i, a] = r + self.discount * np.max(next_state_q)\n",
    "                \n",
    "        ######## FILL IN\n",
    "        # HINT: Clip the target to avoid exploiding gradients.. -- clipping is a bit tighter\n",
    "        target_q = np.clip(target_q, -3, 3)\n",
    "\n",
    "        l = self.model.train_on_batch(input_states, target_q)\n",
    "\n",
    "\n",
    "        return l\n",
    "\n",
    "    def save(self,name_weights='model.h5',name_model='model.json'):\n",
    "        self.model.save_weights(name_weights, overwrite=True)\n",
    "        with open(name_model, \"w\") as outfile:\n",
    "            json.dump(self.model.to_json(), outfile)\n",
    "            \n",
    "    def load(self,name_weights='model.h5',name_model='model.json'):\n",
    "        with open(name_model, \"r\") as jfile:\n",
    "            model = model_from_json(json.load(jfile))\n",
    "        model.load_weights(name_weights)\n",
    "        model.compile(\"sgd\", \"mse\")\n",
    "        self.model = model\n",
    "\n",
    "            \n",
    "class DQN_FC(DQN):\n",
    "    def __init__(self, *args, lr=0.1,**kwargs):\n",
    "        super(DQN_FC, self).__init__( *args,**kwargs)\n",
    "        \n",
    "        # NN Model\n",
    "        ####### FILL IN\n",
    "        model = Sequential()  # Input should be flattened\n",
    "        model.add(Flatten(input_shape=(5, 5, self.n_state)))\n",
    "        model.add(Dense(32, activation='relu', input_dim=5 * 5 * self.n_state))\n",
    "        model.add(Dense(10, activation='relu'))\n",
    "        model.add(Dense(4))\n",
    "        \n",
    "        model.compile(sgd(lr=lr, decay=1e-4, momentum=0.0), \"mse\")\n",
    "        self.model = model  "
   ]
  },
  {
   "cell_type": "code",
   "execution_count": 12,
   "metadata": {},
   "outputs": [
    {
     "name": "stdout",
     "output_type": "stream",
     "text": [
      "WARNING:tensorflow:Variable *= will be deprecated. Use variable.assign_mul if you want assignment to the variable value or 'x = x * y' if you want a new python Tensor object.\n",
      "Epoch 000/020 | Loss 0.0003 | Win/lose count 0.5/2.0 (-1.5)\n",
      "Epoch 001/020 | Loss 0.0101 | Win/lose count 1.0/1.0 (0.0)\n",
      "Epoch 002/020 | Loss 0.0104 | Win/lose count 4.0/4.0 (0.0)\n",
      "Epoch 003/020 | Loss 0.0026 | Win/lose count 2.0/4.0 (-2.0)\n",
      "Epoch 004/020 | Loss 0.0103 | Win/lose count 4.5/5.0 (-0.5)\n",
      "Epoch 005/020 | Loss 0.0023 | Win/lose count 4.5/6.0 (-1.5)\n",
      "Epoch 006/020 | Loss 0.0033 | Win/lose count 6.5/19.0 (-12.5)\n",
      "Epoch 007/020 | Loss 0.0008 | Win/lose count 10.5/13.0 (-2.5)\n",
      "Epoch 008/020 | Loss 0.0108 | Win/lose count 11.5/10.0 (1.5)\n",
      "Epoch 009/020 | Loss 0.0135 | Win/lose count 5.5/17.0 (-11.5)\n",
      "Epoch 010/020 | Loss 0.0242 | Win/lose count 6.5/11.0 (-4.5)\n",
      "Epoch 011/020 | Loss 0.0138 | Win/lose count 3.5/3.0 (0.5)\n",
      "Epoch 012/020 | Loss 0.0140 | Win/lose count 7.5/8.0 (-0.5)\n",
      "Epoch 013/020 | Loss 0.0082 | Win/lose count 3.5/9.0 (-5.5)\n",
      "Epoch 014/020 | Loss 0.0080 | Win/lose count 2.0/2.0 (0.0)\n",
      "Epoch 015/020 | Loss 0.0197 | Win/lose count 6.5/5.0 (1.5)\n",
      "Epoch 016/020 | Loss 0.0042 | Win/lose count 8.5/9.0 (-0.5)\n",
      "Epoch 017/020 | Loss 0.0141 | Win/lose count 11.0/9.0 (2.0)\n",
      "Epoch 018/020 | Loss 0.0081 | Win/lose count 8.0/11.0 (-3.0)\n",
      "Epoch 019/020 | Loss 0.0100 | Win/lose count 7.5/11.0 (-3.5)\n"
     ]
    },
    {
     "data": {
      "text/html": [
       "<video alt=\"test\" controls>\n",
       "                <source src=\"data:video/mp4;base64,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\" type=\"video/mp4\" />\n",
       "             </video>"
      ],
      "text/plain": [
       "<IPython.core.display.HTML object>"
      ]
     },
     "execution_count": 12,
     "metadata": {},
     "output_type": "execute_result"
    }
   ],
   "source": [
    "env = Environment(grid_size=size, max_time=T, temperature=0.3)\n",
    "agent = DQN_FC(size, lr=.1, epsilon = 0.1, memory_size=2000, batch_size = 32)\n",
    "train(agent, env, epochs_train, prefix='fc_train')\n",
    "HTML(display_videos('fc_train' + str(epochs_train-1) + '.mp4'))"
   ]
  },
  {
   "cell_type": "markdown",
   "metadata": {},
   "source": [
    "***\n",
    "***\n",
    "__Question 8__ Implement the DQN training algorithm using a CNN (for example, 2 convolutional layers and one final fully connected layer)."
   ]
  },
  {
   "cell_type": "code",
   "execution_count": 13,
   "metadata": {},
   "outputs": [],
   "source": [
    "class DQN_CNN(DQN):\n",
    "    def __init__(self, *args,lr=0.1,**kwargs):\n",
    "        super(DQN_CNN, self).__init__(*args,**kwargs)\n",
    "        \n",
    "        ###### FILL IN\n",
    "        model = Sequential()\n",
    "        model.add(Conv2D(16, (3, 3), strides=(1, 1), activation='relu', input_shape=(5, 5, self.n_state)))\n",
    "        model.add(BatchNormalization())\n",
    "        model.add(Conv2D(8, (3, 3), strides=(1, 1), activation='relu'))\n",
    "        model.add(BatchNormalization())\n",
    "        model.add(Flatten())\n",
    "        model.add(Dense(4))\n",
    "        \n",
    "        model.compile(sgd(lr=lr, decay=1e-4, momentum=0.0), \"mse\")\n",
    "        self.model = model"
   ]
  },
  {
   "cell_type": "code",
   "execution_count": 14,
   "metadata": {},
   "outputs": [
    {
     "name": "stdout",
     "output_type": "stream",
     "text": [
      "Epoch 000/020 | Loss 0.1896 | Win/lose count 3.5/4.0 (-0.5)\n",
      "Epoch 001/020 | Loss 0.0234 | Win/lose count 3.0/3.0 (0.0)\n",
      "Epoch 002/020 | Loss 0.0056 | Win/lose count 3.5/4.0 (-0.5)\n",
      "Epoch 003/020 | Loss 0.0034 | Win/lose count 4.0/5.0 (-1.0)\n",
      "Epoch 004/020 | Loss 0.0180 | Win/lose count 3.5/1.0 (2.5)\n",
      "Epoch 005/020 | Loss 0.0043 | Win/lose count 4.0/4.0 (0.0)\n",
      "Epoch 006/020 | Loss 0.0018 | Win/lose count 3.5/5.0 (-1.5)\n",
      "Epoch 007/020 | Loss 0.0032 | Win/lose count 6.0/6.0 (0.0)\n",
      "Epoch 008/020 | Loss 0.0106 | Win/lose count 1.0/2.0 (-1.0)\n",
      "Epoch 009/020 | Loss 0.0013 | Win/lose count 1.5/1.0 (0.5)\n",
      "Epoch 010/020 | Loss 0.0027 | Win/lose count 5.0/2.0 (3.0)\n",
      "Epoch 011/020 | Loss 0.0058 | Win/lose count 1.0/2.0 (-1.0)\n",
      "Epoch 012/020 | Loss 0.0119 | Win/lose count 5.5/3.0 (2.5)\n",
      "Epoch 013/020 | Loss 0.0099 | Win/lose count 2.5/2.0 (0.5)\n",
      "Epoch 014/020 | Loss 0.0025 | Win/lose count 4.5/5.0 (-0.5)\n",
      "Epoch 015/020 | Loss 0.0006 | Win/lose count 2.5/4.0 (-1.5)\n",
      "Epoch 016/020 | Loss 0.0112 | Win/lose count 2.5/2.0 (0.5)\n",
      "Epoch 017/020 | Loss 0.0093 | Win/lose count 2.0/2.0 (0.0)\n",
      "Epoch 018/020 | Loss 0.0004 | Win/lose count 4.0/2.0 (2.0)\n",
      "Epoch 019/020 | Loss 0.0005 | Win/lose count 4.0/2.0 (2.0)\n"
     ]
    },
    {
     "data": {
      "text/html": [
       "<video alt=\"test\" controls>\n",
       "                <source src=\"data:video/mp4;base64,AAAAIGZ0eXBpc29tAAACAGlzb21pc28yYXZjMW1wNDEAAAAIZnJlZQAAFvttZGF0AAACrQYF//+p3EXpvebZSLeWLNgg2SPu73gyNjQgLSBjb3JlIDE1NyByMjkzNSA1NDVkZTJmIC0gSC4yNjQvTVBFRy00IEFWQyBjb2RlYyAtIENvcHlsZWZ0IDIwMDMtMjAxOCAtIGh0dHA6Ly93d3cudmlkZW9sYW4ub3JnL3gyNjQuaHRtbCAtIG9wdGlvbnM6IGNhYmFjPTEgcmVmPTMgZGVibG9jaz0xOjA6MCBhbmFseXNlPTB4MToweDExMSBtZT1oZXggc3VibWU9NyBwc3k9MSBwc3lfcmQ9MS4wMDowLjAwIG1peGVkX3JlZj0xIG1lX3JhbmdlPTE2IGNocm9tYV9tZT0xIHRyZWxsaXM9MSA4eDhkY3Q9MCBjcW09MCBkZWFkem9uZT0yMSwxMSBmYXN0X3Bza2lwPTEgY2hyb21hX3FwX29mZnNldD00IHRocmVhZHM9NiBsb29rYWhlYWRfdGhyZWFkcz0xIHNsaWNlZF90aHJlYWRzPTAgbnI9MCBkZWNpbWF0ZT0xIGludGVybGFjZWQ9MCBibHVyYXlfY29tcGF0PTAgY29uc3RyYWluZWRfaW50cmE9MCBiZnJhbWVzPTMgYl9weXJhbWlkPTIgYl9hZGFwdD0xIGJfYmlhcz0wIGRpcmVjdD0xIHdlaWdodGI9MSBvcGVuX2dvcD0wIHdlaWdodHA9MiBrZXlpbnQ9MjUwIGtleWludF9taW49MjUgc2NlbmVjdXQ9NDAgaW50cmFfcmVmcmVzaD0wIHJjX2xvb2thaGVhZD00MCByYz1jcmYgbWJ0cmVlPTEgY3JmPTIzLjAgcWNvbXA9MC42MCBxcG1pbj0wIHFwbWF4PTY5IHFwc3RlcD00IGlwX3JhdGlvPTEuNDAgYXE9MToxLjAwAIAAAAMmZYiEADv//vb8/AptUwn/LZ/+iL/lb+9P2a61uFE7M7QacwPQC/3cd/Xi1bCrc27LcdG8bJkAU3Roif7wCe9n2YfhfPwKXAUD8CmkyNjbSaAxHhrcKPt+8h20kW9fPXO+e2IoqlKQVFCx3lgbW7RFPeAP+8aV5siQsyBfhAUEAYqkusJC/BgRHmYOIMOHvIdA/pffrrAYyX+NPJ0TpGxEu2ey/wwoRwHhp75pC1muB+hzI/4TVBUfvJdykGb3gkaVggHHqHN72BBsNfaHb4E6Nj3M6AOjQDcZEgCQH5DTjBjA3UDTvbPYiUvHKb8uOc4iyQNt8fhkWlpmxa6BCBDB0+HWiiFt2zf1yfWBG8es0PkN1abptbprxQwIPNqLHochncd8jbzko071L2GqwdIvKm39HU+2KCTKUJBPz+R3zCIvbxRYdk23IXBR9MDmwki8jMIE5wFtxsXZGA2w2e2XSqVQq/OG/GbeddRiMjJFLEtqMakwoGtZYuRwwK2dWCoDLoWsdGI3bV1HQpBDg1pZBWiWnc6NYQJ0veo6R66Cx2ORQ4kTmq7XcTjyMvdMpdm+NM7loxYuCfO9D2uB9f8zoxIAShHCMnG9BiBDuUG72PRDW9ikpHKHXVu5bQ8mksIVvi4uDPJq2bRHpZaUbBayRtTdFeXlpqik2zIhAiHKZzl+PxKyIANhOUsE4LA+pV8YYg+HON1zJGNqvv114OuTriqPBTv4oCnHdmvRAPp/nylCJywLvSW6ASuIgafPgKhKUG+NqgvDxA8gYLor8ckB40uqy/QH1G7IG1uQBSCB+B/z2GAg8kXBgmJDYISL6ceIHudvzcACLshFKBybSBqij1TKNPXfNEZsfkN6L0/GDisiQ+zi1bcOK+/cwt1WIMTD2uaiiAY7eA2/HXkqGAZNk47l8yp4xzQ52QvAjLcERFH28KkRP/NpIyPfc7FpXBJoBueQ7YMW8gs5ScYZlAA1VW1ZkQ8yf3VloJMmpUaLWKyMODNUxOWuJebErzzPxs3MIS9HpVhfzJ5IrBz54KYlhldMK0kVqx694/6WwAAwW3UAZLrgAUEAAAANQZokbEO//qmWAACVgAAAAApBnkJ4hf8AALKBAAAAEAGeYXRCvwAlwgDoWMSZK3AAAAAQAZ5jakK/ACW2td3kk+zW4QAAABNBmmhJqEFomUwId//+qZYAAJWBAAAADEGehkURLC//AACygQAAABABnqV0Qr8AJcIA6FjEmStxAAAAEAGep2pCvwAltrXd5JPs1uAAAAATQZqsSahBbJlMCHf//qmWAACVgAAAAAxBnspFFSwv/wAAsoEAAAAQAZ7pdEK/ACXCAOhYxJkrcAAAABABnutqQr8AJba13eST7NbgAAAAE0Ga8EmoQWyZTAh3//6plgAAlYEAAAAMQZ8ORRUsL/8AALKBAAAAEAGfLXRCvwAlwgDoWMSZK3EAAAAQAZ8vakK/ACW2td3kk+zW4AAAABJBmzRJqEFsmUwIb//+p4QAAScAAAAMQZ9SRRUsL/8AALKBAAAAEAGfcXRCvwAlwgDoWMSZK3AAAAAQAZ9zakK/ACW2td3kk+zW4AAAABJBm3hJqEFsmUwIZ//+nhAABH0AAAAMQZ+WRRUsL/8AALKAAAAAEAGftXRCvwAlwgDoWMSZK3EAAAAQAZ+3akK/ACW2td3kk+zW4QAAABpBm7lJqEFsmUwIb//+p4QALn6J/qR0aQ12wAAAABhBm9tJ4QpSZTBRUsM//p4QALD3tN2xkMEAAAAPAZ/6akK/ACXBoHkwRlmAAAAAGEGb/EnhDomUwIb//qeEAC6CEu+GBGvpgQAAAB1Bmh5J4Q8mUwUVPDf//qeEAC2fGn47ZK3RYJ/sGQAAAA8Bnj1qQr8AJLJlM2zI2F4AAAAYQZo/SeEPJlMCG//+p4QAK17qcf4fVtwjAAAAHkGaQUnhDyZTBRE8N//+p4QAKj7qfd5uvvrZihH7JQAAABABnmBqQr8AIbJ851oYXo+AAAAAIEGaZEnhDyZTAhv//qeEABp/YP8tdLrDQz4FNkYJXJtBAAAAE0GegkURPCv/ABWW3RVZ5pmvm0AAAAAQAZ6jakK/AA4pqHN8P4k70QAAABxBmqdJqEFomUwIZ//+nhAALH7pvcAOV5WbFguBAAAAEkGexUURLCv/AAksnznWT5Q+gQAAAA4BnuZqQr8ACTBoXe9UzwAAABlBmuhJqEFsmUwIZ//+nhAAHG9ffyJEfWLdAAAAGkGbCUnhClJlMCG//qeEAAS75HBs9BWsynPoAAAAGkGbKknhDomUwIb//qeEAASb6XTz/UcaEiG1AAAAG0GbS0nhDyZTAh3//qmWAAGKgsrjNqAf39sjYAAAABtBm29J4Q8mUwId//6plgACUL9209KoHD/Zb4AAAAAQQZ+NRRE8L/8AAsVAitKRpQAAAA8Bn6x0Qr8AA81isYQrIcEAAAAQAZ+uakK/AAO2z5jdDkhAuQAAABlBm7JJqEFomUwId//+qZYAAmBRzpUt3MXAAAAAEkGf0EURLCv/AAPMzF7CwX7LQAAAAA4Bn/FqQr8AA8zNY84LmwAAABJBm/ZJqEFsmUwIb//+p4QAAScAAAAQQZ4URRUsL/8AAteS2b9KJgAAABABnjN0Qr8AA8vE8Um2S3mBAAAAEAGeNWpCvwADzMweTA9fgYAAAAASQZo6SahBbJlMCG///qeEAAEnAAAAEEGeWEUVLC//AALXktm/SicAAAAQAZ53dEK/AAPLxPFJtkt5gAAAABABnnlqQr8AA8zMHkwPX4GBAAAAG0GafUmoQWyZTAhn//6eEAASb4sQ4P2yGPrH1AAAAA9BnptFFSwr/wADzA/52iEAAAANAZ68akK/AAPNYFA3DwAAABxBmr5JqEFsmUwIb//+p4QAAyLq0ghKIIZ/LqWAAAAAGUGa30nhClJlMCG//qeEAATVAFm2DbVOplAAAAAZQZrgSeEOiZTAh3/+qZYAAnCLDcHGjkbVkwAAABJBmwRJ4Q8mUwId//6plgAAlYAAAAATQZ8iRRE8L/8AAteS2amZZchsXQAAABABn0F0Qr8AA8vDAZJb/cDAAAAAEAGfQ2pCvwADzMweTA9fgYEAAAAZQZtISahBaJlMCG///qeEAAS746fcyUHhYwAAABBBn2ZFESwv/wAC10CClD4ZAAAADwGfhXRCvwADzF+LgP0BwQAAABABn4dqQr8AA8wLznWhhihAAAAAGkGbi0moQWyZTAhv//6nhAAEmkfK/ntnufR1AAAAD0GfqUUVLCv/AAO2D/nbYQAAAA0Bn8pqQr8AA7dgUDceAAAAE0GbzUmoQWyZTBRMN//+p4QAAScAAAAQAZ/sakK/AAOssA3s8fdtgQAAABJBm+9J4QpSZTBSw3/+p4QAAScAAAAQAZ4OakK/AAOssA3s8fdtgQAAABJBmhFJ4Q6JlMFEw3/+p4QAAScAAAAQAZ4wakK/AAOssA3s8fdtgAAAABJBmjNJ4Q8mUwU8N//+p4QAAScAAAAQAZ5SakK/AAOssA3s8fdtgAAAABJBmlVJ4Q8mUwU8N//+p4QAAScAAAAQAZ50akK/AAOssA3s8fdtgQAAABJBmndJ4Q8mUwU8N//+p4QAAScAAAAQAZ6WakK/AAOssA3s8fdtgQAAABJBmplJ4Q8mUwU8N//+p4QAAScAAAAQAZ64akK/AAOssA3s8fdtgAAAABJBmrtJ4Q8mUwU8N//+p4QAAScAAAAQAZ7aakK/AAOssA3s8fdtgAAAABJBmt1J4Q8mUwU8N//+p4QAAScAAAAQAZ78akK/AAOssA3s8fdtgQAAABJBmv9J4Q8mUwU8N//+p4QAAScAAAAQAZ8eakK/AAOssA3s8fdtgAAAABNBmwFJ4Q8mUwU8O//+qZYAAJWBAAAAEAGfIGpCvwADrLAN7PH3bYAAAAATQZsjSeEPJlMFPDv//qmWAACVgQAAABABn0JqQr8AA6ywDezx922AAAAAEkGbR0nhDyZTAh3//qmWAACVgQAAABRBn2VFETwv/wACvVReupiHt8ZaBQAAABABn4R0Qr8AA7XFmeV+SnoJAAAAEAGfhmpCvwADts+Y3Q5IQLkAAAATQZuLSahBaJlMCHf//qmWAACVgAAAABBBn6lFESwv/wACxZLc/XJrAAAAEAGfyHRCvwADtcWZ5X5KegkAAAAQAZ/KakK/AAO2z5jdDkhAuAAAABJBm89JqEFsmUwIb//+p4QAAScAAAAQQZ/tRRUsL/8AAsWS3P1yawAAABABngx0Qr8AA8zYGtplD6JBAAAAEAGeDmpCvwADy84a95pWrcEAAAATQZoRSahBbJlMFEw3//6nhAABJwAAAA8BnjBqQr8AA7dgS5X+ZsAAAAASQZozSeEKUmUwUsN//qeEAAEnAAAAEAGeUmpCvwADrLAN7PH3bYAAAAATQZpVSeEOiZTBRMO//qmWAACVgAAAABABnnRqQr8AA6ywDezx922BAAAAE0Gad0nhDyZTBTw7//6plgAAlYAAAAAQAZ6WakK/AAOssA3s8fdtgQAAABJBmptJ4Q8mUwId//6plgAAlYEAAAAUQZ65RRE8L/8AAr1UXrqYh7fGWgQAAAAQAZ7YdEK/AAO1xZnlfkp6CQAAABABntpqQr8AA7bPmN0OSEC4AAAAE0Ga30moQWiZTAh3//6plgAAlYEAAAAQQZ79RREsL/8AAsWS3P1yawAAABABnxx0Qr8AA7XFmeV+SnoIAAAAEAGfHmpCvwADy84a95pWrcAAAAASQZsDSahBbJlMCG///qeEAAEnAAAAEEGfIUUVLC//AALFktz9cmsAAAAQAZ9AdEK/AAPM2BraZQ+iQQAAABABn0JqQr8AA8vOGveaVq3AAAAAE0GbRUmoQWyZTBRMN//+p4QAAScAAAAPAZ9kakK/AAO3YEuV/mbBAAAAEkGbZ0nhClJlMFLDf/6nhAABJwAAABABn4ZqQr8AA6ywDezx922BAAAAEkGbiUnhDomUwUTDf/6nhAABJwAAABABn6hqQr8AA6ywDezx922AAAAAEkGbq0nhDyZTBTw3//6nhAABJwAAABABn8pqQr8AA6ywDezx922AAAAAEkGbzUnhDyZTBTw3//6nhAABJwAAABABn+xqQr8AA6ywDezx922BAAAAEkGb70nhDyZTBTw3//6nhAABJwAAABABng5qQr8AA6ywDezx922BAAAAEkGaEUnhDyZTBTw3//6nhAABJwAAABABnjBqQr8AA6ywDezx922AAAAAEUGaNUnhDyZTAhv//qeEAAEnAAAAFEGeU0URPC//AAK9VF66mIe3xloEAAAAEAGecnRCvwADtcWZ5X5KeggAAAAQAZ50akK/AAO2z5jdDkhAuQAAABJBmndJqEFomUwU8N/+p4QAAScAAAAPAZ6WakK/AAO3YEuV/mbBAAAAEkGamUnhClJlMFLDf/6nhAABJwAAABABnrhqQr8AA6ywDezx922AAAAAEkGau0nhDomUwUTDf/6nhAABJwAAABABntpqQr8AA6ywDezx922AAAAAEkGa3UnhDyZTBTw3//6nhAABJwAAABABnvxqQr8AA6ywDezx922BAAAAEkGa/0nhDyZTBTw3//6nhAABJwAAABABnx5qQr8AA6ywDezx922AAAAAEkGbAUnhDyZTBTw3//6nhAABJwAAABABnyBqQr8AA6ywDezx922AAAAAEkGbI0nhDyZTBTw3//6nhAABJwAAABABn0JqQr8AA6ywDezx922AAAAAEkGbRUnhDyZTBTw3//6nhAABJwAAABABn2RqQr8AA6ywDezx922BAAAAEkGbZ0nhDyZTBTw3//6nhAABJwAAABABn4ZqQr8AA6ywDezx922BAAAAEkGbiUnhDyZTBTw3//6nhAABJwAAABABn6hqQr8AA6ywDezx922AAAAAEkGbq0nhDyZTBTw3//6nhAABJwAAABABn8pqQr8AA6ywDezx922AAAAAEkGbzUnhDyZTBTw3//6nhAABJwAAABABn+xqQr8AA6ywDezx922BAAAAEkGb70nhDyZTBTw3//6nhAABJwAAABABng5qQr8AA6ywDezx922BAAAAEkGaEUnhDyZTBTw3//6nhAABJwAAABABnjBqQr8AA6ywDezx922AAAAAEkGaM0nhDyZTBTw3//6nhAABJwAAABABnlJqQr8AA6ywDezx922AAAAAEkGaVUnhDyZTBTw3//6nhAABJwAAABABnnRqQr8AA6ywDezx922BAAAAEkGad0nhDyZTBTw3//6nhAABJwAAABABnpZqQr8AA6ywDezx922BAAAAEkGamUnhDyZTBTw3//6nhAABJwAAABABnrhqQr8AA6ywDezx922AAAAAEkGau0nhDyZTBTw3//6nhAABJwAAABABntpqQr8AA6ywDezx922AAAAAEkGa3UnhDyZTBTw3//6nhAABJwAAABABnvxqQr8AA6ywDezx922BAAAAEkGa/0nhDyZTBTw3//6nhAABJwAAABABnx5qQr8AA6ywDezx922AAAAAEUGbA0nhDyZTAhv//qeEAAEnAAAAFEGfIUURPC//AAK9VF66mIe3xloEAAAAEAGfQHRCvwADtcWZ5X5KegkAAAAQAZ9CakK/AAO2z5jdDkhAuAAAABlBm0dJqEFomUwIZ//+nhAAEe+c34xqj4FhAAAAEEGfZUURLC//AALEyxUIRpEAAAAQAZ+EdEK/AAO1xZnlfkp6CQAAAA8Bn4ZqQr8AAn3KB5MFJ4EAAAAbQZuJS6hCEFskRggoB/IB/YeAUTCv/jhAABFwAAAAJAGfqGpCvwKvY+1BxN2qw0km5aqGByy1u80qIJosYcPysRNu0AAADDhtb292AAAAbG12aGQAAAAAAAAAAAAAAAAAAAPoAAAfkAABAAABAAAAAAAAAAAAAAAAAQAAAAAAAAAAAAAAAAAAAAEAAAAAAAAAAAAAAAAAAEAAAAAAAAAAAAAAAAAAAAAAAAAAAAAAAAAAAAAAAAACAAALYnRyYWsAAABcdGtoZAAAAAMAAAAAAAAAAAAAAAEAAAAAAAAfkAAAAAAAAAAAAAAAAAAAAAAAAQAAAAAAAAAAAAAAAAAAAAEAAAAAAAAAAAAAAAAAAEAAAAABEAAAARAAAAAAACRlZHRzAAAAHGVsc3QAAAAAAAAAAQAAH5AAAAQAAAEAAAAACtptZGlhAAAAIG1kaGQAAAAAAAAAAAAAAAAAADIAAAGUAFXEAAAAAAAtaGRscgAAAAAAAAAAdmlkZQAAAAAAAAAAAAAAAFZpZGVvSGFuZGxlcgAAAAqFbWluZgAAABR2bWhkAAAAAQAAAAAAAAAAAAAAJGRpbmYAAAAcZHJlZgAAAAAAAAABAAAADHVybCAAAAABAAAKRXN0YmwAAACVc3RzZAAAAAAAAAABAAAAhWF2YzEAAAAAAAAAAQAAAAAAAAAAAAAAAAAAAAABEAEQAEgAAABIAAAAAAAAAAEAAAAAAAAAAAAAAAAAAAAAAAAAAAAAAAAAAAAAAAAAAAAY//8AAAAvYXZjQwH0AA3/4QAXZ/QADZGbKCIR0IAAAAMAgAAAGQeKFMsBAAVo6+PESAAAABhzdHRzAAAAAAAAAAEAAADKAAACAAAAABRzdHNzAAAAAAAAAAEAAAABAAAGEGN0dHMAAAAAAAAAwAAAAAEAAAQAAAAAAQAACgAAAAABAAAEAAAAAAEAAAAAAAAAAQAAAgAAAAABAAAKAAAAAAEAAAQAAAAAAQAAAAAAAAABAAACAAAAAAEAAAoAAAAAAQAABAAAAAABAAAAAAAAAAEAAAIAAAAAAQAACgAAAAABAAAEAAAAAAEAAAAAAAAAAQAAAgAAAAABAAAKAAAAAAEAAAQAAAAAAQAAAAAAAAABAAACAAAAAAEAAAoAAAAAAQAABAAAAAABAAAAAAAAAAEAAAIAAAAAAQAABAAAAAABAAAGAAAAAAEAAAIAAAAAAQAABAAAAAABAAAGAAAAAAEAAAIAAAAAAQAABAAAAAABAAAGAAAAAAEAAAIAAAAAAQAACAAAAAACAAACAAAAAAEAAAgAAAAAAgAAAgAAAAAEAAAEAAAAAAEAAAoAAAAAAQAABAAAAAABAAAAAAAAAAEAAAIAAAAAAQAACAAAAAACAAACAAAAAAEAAAoAAAAAAQAABAAAAAABAAAAAAAAAAEAAAIAAAAAAQAACgAAAAABAAAEAAAAAAEAAAAAAAAAAQAAAgAAAAABAAAIAAAAAAIAAAIAAAAAAwAABAAAAAABAAAKAAAAAAEAAAQAAAAAAQAAAAAAAAABAAACAAAAAAEAAAoAAAAAAQAABAAAAAABAAAAAAAAAAEAAAIAAAAAAQAACAAAAAACAAACAAAAAAEAAAYAAAAAAQAAAgAAAAABAAAGAAAAAAEAAAIAAAAAAQAABgAAAAABAAACAAAAAAEAAAYAAAAAAQAAAgAAAAABAAAGAAAAAAEAAAIAAAAAAQAABgAAAAABAAACAAAAAAEAAAYAAAAAAQAAAgAAAAABAAAGAAAAAAEAAAIAAAAAAQAABgAAAAABAAACAAAAAAEAAAYAAAAAAQAAAgAAAAABAAAGAAAAAAEAAAIAAAAAAQAABgAAAAABAAACAAAAAAEAAAoAAAAAAQAABAAAAAABAAAAAAAAAAEAAAIAAAAAAQAACgAAAAABAAAEAAAAAAEAAAAAAAAAAQAAAgAAAAABAAAKAAAAAAEAAAQAAAAAAQAAAAAAAAABAAACAAAAAAEAAAYAAAAAAQAAAgAAAAABAAAGAAAAAAEAAAIAAAAAAQAABgAAAAABAAACAAAAAAEAAAYAAAAAAQAAAgAAAAABAAAKAAAAAAEAAAQAAAAAAQAAAAAAAAABAAACAAAAAAEAAAoAAAAAAQAABAAAAAABAAAAAAAAAAEAAAIAAAAAAQAACgAAAAABAAAEAAAAAAEAAAAAAAAAAQAAAgAAAAABAAAGAAAAAAEAAAIAAAAAAQAABgAAAAABAAACAAAAAAEAAAYAAAAAAQAAAgAAAAABAAAGAAAAAAEAAAIAAAAAAQAABgAAAAABAAACAAAAAAEAAAYAAAAAAQAAAgAAAAABAAAGAAAAAAEAAAIAAAAAAQAACgAAAAABAAAEAAAAAAEAAAAAAAAAAQAAAgAAAAABAAAGAAAAAAEAAAIAAAAAAQAABgAAAAABAAACAAAAAAEAAAYAAAAAAQAAAgAAAAABAAAGAAAAAAEAAAIAAAAAAQAABgAAAAABAAACAAAAAAEAAAYAAAAAAQAAAgAAAAABAAAGAAAAAAEAAAIAAAAAAQAABgAAAAABAAACAAAAAAEAAAYAAAAAAQAAAgAAAAABAAAGAAAAAAEAAAIAAAAAAQAABgAAAAABAAACAAAAAAEAAAYAAAAAAQAAAgAAAAABAAAGAAAAAAEAAAIAAAAAAQAABgAAAAABAAACAAAAAAEAAAYAAAAAAQAAAgAAAAABAAAGAAAAAAEAAAIAAAAAAQAABgAAAAABAAACAAAAAAEAAAYAAAAAAQAAAgAAAAABAAAGAAAAAAEAAAIAAAAAAQAABgAAAAABAAACAAAAAAEAAAYAAAAAAQAAAgAAAAABAAAKAAAAAAEAAAQAAAAAAQAAAAAAAAABAAACAAAAAAEAAAoAAAAAAQAABAAAAAABAAAAAAAAAAEAAAIAAAAAAQAABgAAAAABAAACAAAAABxzdHNjAAAAAAAAAAEAAAABAAAAygAAAAEAAAM8c3RzegAAAAAAAAAAAAAAygAABdsAAAARAAAADgAAABQAAAAUAAAAFwAAABAAAAAUAAAAFAAAABcAAAAQAAAAFAAAABQAAAAXAAAAEAAAABQAAAAUAAAAFgAAABAAAAAUAAAAFAAAABYAAAAQAAAAFAAAABQAAAAeAAAAHAAAABMAAAAcAAAAIQAAABMAAAAcAAAAIgAAABQAAAAkAAAAFwAAABQAAAAgAAAAFgAAABIAAAAdAAAAHgAAAB4AAAAfAAAAHwAAABQAAAATAAAAFAAAAB0AAAAWAAAAEgAAABYAAAAUAAAAFAAAABQAAAAWAAAAFAAAABQAAAAUAAAAHwAAABMAAAARAAAAIAAAAB0AAAAdAAAAFgAAABcAAAAUAAAAFAAAAB0AAAAUAAAAEwAAABQAAAAeAAAAEwAAABEAAAAXAAAAFAAAABYAAAAUAAAAFgAAABQAAAAWAAAAFAAAABYAAAAUAAAAFgAAABQAAAAWAAAAFAAAABYAAAAUAAAAFgAAABQAAAAWAAAAFAAAABcAAAAUAAAAFwAAABQAAAAWAAAAGAAAABQAAAAUAAAAFwAAABQAAAAUAAAAFAAAABYAAAAUAAAAFAAAABQAAAAXAAAAEwAAABYAAAAUAAAAFwAAABQAAAAXAAAAFAAAABYAAAAYAAAAFAAAABQAAAAXAAAAFAAAABQAAAAUAAAAFgAAABQAAAAUAAAAFAAAABcAAAATAAAAFgAAABQAAAAWAAAAFAAAABYAAAAUAAAAFgAAABQAAAAWAAAAFAAAABYAAAAUAAAAFQAAABgAAAAUAAAAFAAAABYAAAATAAAAFgAAABQAAAAWAAAAFAAAABYAAAAUAAAAFgAAABQAAAAWAAAAFAAAABYAAAAUAAAAFgAAABQAAAAWAAAAFAAAABYAAAAUAAAAFgAAABQAAAAWAAAAFAAAABYAAAAUAAAAFgAAABQAAAAWAAAAFAAAABYAAAAUAAAAFgAAABQAAAAWAAAAFAAAABYAAAAUAAAAFgAAABQAAAAWAAAAFAAAABUAAAAYAAAAFAAAABQAAAAdAAAAFAAAABQAAAATAAAAHwAAACgAAAAUc3RjbwAAAAAAAAABAAAAMAAAAGJ1ZHRhAAAAWm1ldGEAAAAAAAAAIWhkbHIAAAAAAAAAAG1kaXJhcHBsAAAAAAAAAAAAAAAALWlsc3QAAAAlqXRvbwAAAB1kYXRhAAAAAQAAAABMYXZmNTguMjYuMTAw\" type=\"video/mp4\" />\n",
       "             </video>"
      ],
      "text/plain": [
       "<IPython.core.display.HTML object>"
      ]
     },
     "execution_count": 14,
     "metadata": {},
     "output_type": "execute_result"
    }
   ],
   "source": [
    "env = Environment(grid_size=size, max_time=T, temperature=0.3)\n",
    "agent = DQN_CNN(size, lr=.1, epsilon = 0.1, memory_size=2000, batch_size = 32)\n",
    "train(agent,env,epochs_train,prefix='cnn_train')\n",
    "HTML(display_videos('cnn_train' + str(epochs_train-1) + '.mp4'))"
   ]
  },
  {
   "cell_type": "markdown",
   "metadata": {},
   "source": [
    "***\n",
    "***\n",
    "__Question 9__ Test both algorithms and compare their performances. Which issue(s) do you observe? Observe also different behaviors by changing the temperature."
   ]
  },
  {
   "cell_type": "code",
   "execution_count": 15,
   "metadata": {},
   "outputs": [
    {
     "name": "stdout",
     "output_type": "stream",
     "text": [
      "Test of the CNN\n",
      "Win/lose count 3.0/1.0. Average score (2.0)\n",
      "Win/lose count 1.0/2.0. Average score (0.5)\n",
      "Win/lose count 0.5/1.0. Average score (0.16666666666666666)\n",
      "Win/lose count 2.5/3.0. Average score (0.0)\n",
      "Win/lose count 2.0/1.0. Average score (0.2)\n",
      "Win/lose count 0.5/0. Average score (0.25)\n",
      "Win/lose count 1.0/1.0. Average score (0.21428571428571427)\n",
      "Win/lose count 0/0. Average score (0.1875)\n",
      "Win/lose count 1.0/2.0. Average score (0.05555555555555555)\n",
      "Win/lose count 0/0. Average score (0.05)\n",
      "Final score: 0.05\n",
      "Test of the FC\n",
      "Win/lose count 0.5/4.0. Average score (-3.5)\n",
      "Win/lose count 1.0/2.0. Average score (-2.25)\n",
      "Win/lose count 1.5/0. Average score (-1.0)\n",
      "Win/lose count 2.0/2.0. Average score (-0.75)\n",
      "Win/lose count 1.5/4.0. Average score (-1.1)\n",
      "Win/lose count 2.0/4.0. Average score (-1.25)\n",
      "Win/lose count 3.0/2.0. Average score (-0.9285714285714286)\n",
      "Win/lose count 1.5/4.0. Average score (-1.125)\n",
      "Win/lose count 0/1.0. Average score (-1.1111111111111112)\n",
      "Win/lose count 2.0/1.0. Average score (-0.9)\n",
      "Final score: -0.9\n"
     ]
    }
   ],
   "source": [
    "env = Environment(grid_size=size, max_time=T,temperature=0.3)\n",
    "agent_cnn = DQN_CNN(size, lr=.1, epsilon = 0.1, memory_size=2000, batch_size = 32)\n",
    "agent_cnn.load(name_weights='cnn_trainmodel.h5',name_model='cnn_trainmodel.json')\n",
    "\n",
    "agent_fc = DQN_FC(size, lr=.1, epsilon = 0.1, memory_size=2000, batch_size = 32)\n",
    "agent_cnn.load(name_weights='fc_trainmodel.h5',name_model='fc_trainmodel.json')\n",
    "print('Test of the CNN')\n",
    "test(agent_cnn,env,epochs_test,prefix='cnn_test')\n",
    "print('Test of the FC')\n",
    "test(agent_fc,env,epochs_test,prefix='fc_test')"
   ]
  },
  {
   "cell_type": "code",
   "execution_count": 16,
   "metadata": {},
   "outputs": [
    {
     "data": {
      "text/html": [
       "<video alt=\"test\" controls>\n",
       "                <source src=\"data:video/mp4;base64,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\" type=\"video/mp4\" />\n",
       "             </video>"
      ],
      "text/plain": [
       "<IPython.core.display.HTML object>"
      ]
     },
     "execution_count": 16,
     "metadata": {},
     "output_type": "execute_result"
    }
   ],
   "source": [
    "HTML(display_videos('cnn_test' + str(epochs_test-1) + '.mp4'))"
   ]
  },
  {
   "cell_type": "code",
   "execution_count": 17,
   "metadata": {},
   "outputs": [
    {
     "data": {
      "text/html": [
       "<video alt=\"test\" controls>\n",
       "                <source src=\"data:video/mp4;base64,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\" type=\"video/mp4\" />\n",
       "             </video>"
      ],
      "text/plain": [
       "<IPython.core.display.HTML object>"
      ]
     },
     "execution_count": 17,
     "metadata": {},
     "output_type": "execute_result"
    }
   ],
   "source": [
    "HTML(display_videos('fc_test' + str(epochs_test-1) + '.mp4'))"
   ]
  },
  {
   "cell_type": "markdown",
   "metadata": {},
   "source": [
    "There is not enough exploration: the agent stays too much inside the region he knows. Thus it mainly spends its time on empty cells. Besides, during testing, a major issue is when the agent has taken all the bonus around it, it struggles to go beyond the square it can observe.\n",
    "\n",
    "The CNN seems to perform better than the FC model.\n",
    "\n",
    "Increasing the temperature leads to less empty cell (particularly, there is an increase of cells with cheese)."
   ]
  },
  {
   "cell_type": "markdown",
   "metadata": {},
   "source": [
    "***\n",
    "\n",
    "The algorithm tends to not explore the map which can be an issue. We propose two ideas in order to encourage exploration:\n",
    "1. Incorporating a decreasing $\\epsilon$-greedy exploration. You can use the method ```set_epsilon```\n",
    "2. Append via the environment a new state that describes if a cell has been visited or not\n",
    "\n",
    "***\n",
    "__Question 10__ Design a new ```train_explore``` function and environment class ```EnvironmentExploring``` to tackle the issue of exploration.\n",
    "\n"
   ]
  },
  {
   "cell_type": "code",
   "execution_count": 18,
   "metadata": {},
   "outputs": [],
   "source": [
    "def train_explore(agent,env,epoch,prefix=''):\n",
    "    # Number of won games\n",
    "    score = 0\n",
    "    loss = 0\n",
    "\n",
    "    for e in range(epoch):\n",
    "        # At each epoch, we restart to a fresh game and get the initial state\n",
    "        state = env.reset()\n",
    "        # This assumes that the games will terminate\n",
    "        game_over = False\n",
    "\n",
    "        win = 0\n",
    "        lose = 0\n",
    "\n",
    "        while not game_over:\n",
    "            # The agent performs an action\n",
    "            action = agent.act(state)\n",
    "\n",
    "            # Apply an action to the environment, get the next state, the reward\n",
    "            # and if the games end\n",
    "            prev_state = state\n",
    "            state, reward, game_over = env.act(action, train=True)\n",
    "\n",
    "            # Update the counters\n",
    "            if reward > 0:\n",
    "                win = win + reward\n",
    "            if reward < 0:\n",
    "                lose = lose -reward\n",
    "\n",
    "            # Apply the reinforcement strategy\n",
    "            loss = agent.reinforce(prev_state, state,  action, reward, game_over)\n",
    "            \n",
    "            # Decrease epsilon\n",
    "            agent.set_epsilon(0.999*agent.epsilon)\n",
    "\n",
    "        # Save as a mp4\n",
    "        if e % (epoch-1) == 0:\n",
    "            env.draw(prefix+str(e))\n",
    "\n",
    "        # Update stats\n",
    "        score += win-lose\n",
    "\n",
    "        print(\"Epoch {:03d}/{:03d} | Loss {:.4f} | Win/lose count {}/{} ({})\"\n",
    "              .format(e, epoch, loss, win, lose, win-lose))\n",
    "        print(agent.epsilon)\n",
    "        agent.save(name_weights=prefix+'model.h5',name_model=prefix+'model.json')\n",
    "\n",
    "        \n",
    "class EnvironmentExploring(Environment):\n",
    "    def __init__(self, grid_size=10, max_time=500, temperature=0.1):\n",
    "        super().__init__(grid_size, max_time, temperature)\n",
    "        # Malus positioning grid\n",
    "        self.malus_position = np.zeros((grid_size + 4, grid_size + 4))\n",
    "    \n",
    "    \n",
    "    def act(self, action, train=False):\n",
    "        \"\"\"This function returns the new state, reward and decides if the\n",
    "        game ends.\"\"\"\n",
    "\n",
    "        self.get_frame(int(self.t))\n",
    "\n",
    "        self.position = np.zeros((self.grid_size, self.grid_size))\n",
    "\n",
    "        self.position[0:2,:]= -1\n",
    "        self.position[:,0:2] = -1\n",
    "        self.position[-2:, :] = -1\n",
    "        self.position[:, -2:] = -1\n",
    "\n",
    "        self.position[self.x, self.y] = 1\n",
    "        if action == 0:\n",
    "            if self.x == self.grid_size-3:\n",
    "                self.x = self.x-1\n",
    "            else:\n",
    "                self.x = self.x + 1\n",
    "        elif action == 1:\n",
    "            if self.x == 2:\n",
    "                self.x = self.x+1\n",
    "            else:\n",
    "                self.x = self.x-1\n",
    "        elif action == 2:\n",
    "            if self.y == self.grid_size - 3:\n",
    "                self.y = self.y - 1\n",
    "            else:\n",
    "                self.y = self.y + 1\n",
    "        elif action == 3:\n",
    "            if self.y == 2:\n",
    "                self.y = self.y + 1\n",
    "            else:\n",
    "                self.y = self.y - 1\n",
    "        else:\n",
    "            raise RuntimeError('Error: action not recognized')\n",
    "\n",
    "        self.t = self.t + 1\n",
    "        reward = self.board[self.x, self.y]\n",
    "        # Negative reward for returning to a known position only for training\n",
    "        if train:\n",
    "            reward -= self.malus_position[self.x, self.y]\n",
    "        self.malus_position[self.x, self.y] = 0.1\n",
    "\n",
    "        self.board[self.x, self.y] = 0\n",
    "        game_over = self.t > self.max_time\n",
    "        state = np.concatenate((self.malus_position.reshape(self.grid_size, self.grid_size,1),\n",
    "                                self.board.reshape(self.grid_size, self.grid_size,1),\n",
    "                        self.position.reshape(self.grid_size, self.grid_size,1)),axis=2)\n",
    "        state = state[self.x-2:self.x+3,self.y-2:self.y+3,:]\n",
    "\n",
    "        return state, reward, game_over\n",
    "\n",
    "    \n",
    "    def reset(self):\n",
    "        \"\"\"This function resets the game and returns the initial state\"\"\"\n",
    "\n",
    "        self.x = np.random.randint(3, self.grid_size-3, size=1)[0]\n",
    "        self.y = np.random.randint(3, self.grid_size-3, size=1)[0]\n",
    "\n",
    "\n",
    "        bonus = 0.5*np.random.binomial(1,self.temperature,size=self.grid_size**2)\n",
    "        bonus = bonus.reshape(self.grid_size,self.grid_size)\n",
    "\n",
    "        malus = -1.0*np.random.binomial(1,self.temperature,size=self.grid_size**2)\n",
    "        malus = malus.reshape(self.grid_size, self.grid_size)\n",
    "\n",
    "        self.to_draw = np.zeros((self.max_time+2, self.grid_size*self.scale, self.grid_size*self.scale, 3))\n",
    "\n",
    "\n",
    "        malus[bonus>0]=0\n",
    "\n",
    "        self.board = bonus + malus\n",
    "\n",
    "        self.position = np.zeros((self.grid_size, self.grid_size))\n",
    "        self.position[0:2,:]= -1\n",
    "        self.position[:,0:2] = -1\n",
    "        self.position[-2:, :] = -1\n",
    "        self.position[:, -2:] = -1\n",
    "        self.board[self.x,self.y] = 0\n",
    "        self.malus_position[self.x, self.y] = 0.1\n",
    "        self.t = 0\n",
    "\n",
    "        state = np.concatenate((self.malus_position.reshape(self.grid_size, self.grid_size,1),\n",
    "                                self.board.reshape(self.grid_size, self.grid_size,1),\n",
    "                        self.position.reshape(self.grid_size, self.grid_size,1)),axis=2)\n",
    "\n",
    "        state = state[self.x - 2:self.x + 3, self.y - 2:self.y + 3, :]\n",
    "        return state"
   ]
  },
  {
   "cell_type": "code",
   "execution_count": 19,
   "metadata": {},
   "outputs": [
    {
     "name": "stdout",
     "output_type": "stream",
     "text": [
      "Epoch 000/020 | Loss 0.0166 | Win/lose count 11.0/26.700000000000063 (-15.700000000000063)\n",
      "0.8178301806491574\n",
      "Epoch 001/020 | Loss 0.0266 | Win/lose count 10.500000000000004/28.900000000000126 (-18.400000000000123)\n",
      "0.6688462043806328\n",
      "Epoch 002/020 | Loss 0.0217 | Win/lose count 9.800000000000004/29.80000000000013 (-20.000000000000124)\n",
      "0.5470026121551156\n",
      "Epoch 003/020 | Loss 0.0176 | Win/lose count 12.700000000000006/27.500000000000096 (-14.80000000000009)\n",
      "0.44735524511437874\n",
      "Epoch 004/020 | Loss 0.0401 | Win/lose count 2.9/24.000000000000064 (-21.100000000000065)\n",
      "0.36586062092624033\n",
      "Epoch 005/020 | Loss 0.0099 | Win/lose count 6.000000000000001/29.60000000000013 (-23.60000000000013)\n",
      "0.29921185770452\n",
      "Epoch 006/020 | Loss 0.0304 | Win/lose count 8.000000000000002/28.1000000000001 (-20.1000000000001)\n",
      "0.24470448763885772\n",
      "Epoch 007/020 | Loss 0.0223 | Win/lose count 7.700000000000002/32.900000000000155 (-25.200000000000152)\n",
      "0.20012671533134627\n",
      "Epoch 008/020 | Loss 0.0215 | Win/lose count 3.1999999999999997/23.30000000000005 (-20.10000000000005)\n",
      "0.16366966775215733\n",
      "Epoch 009/020 | Loss 0.0081 | Win/lose count 15.300000000000008/22.200000000000028 (-6.90000000000002)\n",
      "0.13385399394453418\n",
      "Epoch 010/020 | Loss 0.0239 | Win/lose count 8.800000000000002/23.900000000000034 (-15.100000000000032)\n",
      "0.1094698360482696\n",
      "Epoch 011/020 | Loss 0.0088 | Win/lose count 2.0/25.600000000000072 (-23.600000000000072)\n",
      "0.08952773579098991\n",
      "Epoch 012/020 | Loss 0.0137 | Win/lose count 6.800000000000002/26.40000000000011 (-19.600000000000108)\n",
      "0.07321848433505523\n",
      "Epoch 013/020 | Loss 0.0063 | Win/lose count 7.200000000000002/25.30000000000007 (-18.10000000000007)\n",
      "0.05988028627059577\n",
      "Epoch 014/020 | Loss 0.0284 | Win/lose count 5.6000000000000005/26.700000000000095 (-21.100000000000094)\n",
      "0.04897190533800461\n",
      "Epoch 015/020 | Loss 0.0352 | Win/lose count 8.100000000000001/26.10000000000005 (-18.00000000000005)\n",
      "0.040050702189313746\n",
      "Epoch 016/020 | Loss 0.0146 | Win/lose count 4.3999999999999995/24.000000000000036 (-19.600000000000037)\n",
      "0.03275467300661203\n",
      "Epoch 017/020 | Loss 0.0192 | Win/lose count 8.000000000000002/21.10000000000002 (-13.100000000000017)\n",
      "0.026787760142101585\n",
      "Epoch 018/020 | Loss 0.0079 | Win/lose count 3.6999999999999997/21.100000000000037 (-17.400000000000038)\n",
      "0.021907838716201233\n",
      "Epoch 019/020 | Loss 0.0040 | Win/lose count 3.9999999999999996/23.100000000000065 (-19.100000000000065)\n",
      "0.017916891694903438\n"
     ]
    },
    {
     "data": {
      "text/html": [
       "<video alt=\"test\" controls>\n",
       "                <source src=\"data:video/mp4;base64,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\" type=\"video/mp4\" />\n",
       "             </video>"
      ],
      "text/plain": [
       "<IPython.core.display.HTML object>"
      ]
     },
     "execution_count": 19,
     "metadata": {},
     "output_type": "execute_result"
    }
   ],
   "source": [
    "# Training\n",
    "env = EnvironmentExploring(grid_size=size, max_time=T, temperature=0.3)\n",
    "agent = DQN_CNN(size, lr=.1, epsilon = 1, memory_size=2000, batch_size = 32,n_state=3)\n",
    "train_explore(agent, env, epochs_train, prefix='cnn_train_explore')\n",
    "HTML(display_videos('cnn_train_explore' + str(epochs_train-1) + '.mp4'))"
   ]
  },
  {
   "cell_type": "code",
   "execution_count": 20,
   "metadata": {
    "scrolled": false
   },
   "outputs": [
    {
     "name": "stdout",
     "output_type": "stream",
     "text": [
      "Win/lose count 7.5/4.0. Average score (3.5)\n",
      "Win/lose count 7.5/2.0. Average score (4.5)\n",
      "Win/lose count 2.5/0. Average score (3.8333333333333335)\n",
      "Win/lose count 2.5/0. Average score (3.5)\n",
      "Win/lose count 0/0. Average score (2.8)\n",
      "Win/lose count 3.0/1.0. Average score (2.6666666666666665)\n",
      "Win/lose count 4.0/3.0. Average score (2.4285714285714284)\n",
      "Win/lose count 3.0/0. Average score (2.5)\n",
      "Win/lose count 2.0/2.0. Average score (2.2222222222222223)\n",
      "Win/lose count 1.0/0. Average score (2.1)\n",
      "Final score: 2.1\n"
     ]
    },
    {
     "data": {
      "text/html": [
       "<video alt=\"test\" controls>\n",
       "                <source src=\"data:video/mp4;base64,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\" type=\"video/mp4\" />\n",
       "             </video>"
      ],
      "text/plain": [
       "<IPython.core.display.HTML object>"
      ]
     },
     "execution_count": 20,
     "metadata": {},
     "output_type": "execute_result"
    }
   ],
   "source": [
    "# Evaluation\n",
    "test(agent,env,epochs_test,prefix='cnn_test_explore')\n",
    "HTML(display_videos('cnn_test_explore' + str(epochs_test-1) + '.mp4'))"
   ]
  },
  {
   "cell_type": "markdown",
   "metadata": {},
   "source": [
    "***\n",
    "***\n",
    "__BONUS question__ Use the expert DQN from the previous question to generate some winning games. Train a model that mimicks its behavior. Compare the performances."
   ]
  },
  {
   "cell_type": "markdown",
   "metadata": {},
   "source": []
  },
  {
   "cell_type": "markdown",
   "metadata": {},
   "source": [
    "***"
   ]
  }
 ],
 "metadata": {
  "kernelspec": {
   "display_name": "Python 3",
   "language": "python",
   "name": "python3"
  },
  "language_info": {
   "codemirror_mode": {
    "name": "ipython",
    "version": 3
   },
   "file_extension": ".py",
   "mimetype": "text/x-python",
   "name": "python",
   "nbconvert_exporter": "python",
   "pygments_lexer": "ipython3",
   "version": "3.6.4"
  }
 },
 "nbformat": 4,
 "nbformat_minor": 2
}
